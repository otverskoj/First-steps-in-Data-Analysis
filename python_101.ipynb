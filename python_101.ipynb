{
 "cells": [
  {
   "cell_type": "markdown",
   "metadata": {},
   "source": [
    "Дано два листа. Написать функцию возвращающую уникальные элементы, \n",
    "которые встречаются и в первом, и во втором листе.\n",
    "На входе: первый и второй лист. На выходе: лист элементов.\n",
    "Решение оформить в виде функции и вызывающего её кода."
   ]
  },
  {
   "cell_type": "markdown",
   "metadata": {},
   "source": [
    "Первый способ: сначала отфильтруем одинаковые элементы, которые присутствуют и в первом и во втором списке. Из итогового списка создадим множество, чтобы избавиться от дублирования."
   ]
  },
  {
   "cell_type": "code",
   "execution_count": 2,
   "metadata": {
    "scrolled": true
   },
   "outputs": [],
   "source": [
    "def find_unique_by_filter(first_list, second_list):\n",
    "    unique_elements = set(filter(lambda x: x in second_list, first_list))\n",
    "    return list(unique_elements)\n"
   ]
  },
  {
   "cell_type": "markdown",
   "metadata": {},
   "source": [
    "Второй способ: этого же результата можно добиться пересечением двух множеств, составленных из обоих списков."
   ]
  },
  {
   "cell_type": "code",
   "execution_count": 3,
   "metadata": {},
   "outputs": [],
   "source": [
    "def find_unique_by_sets(first_list, second_list):\n",
    "    first_set = set(first_list)\n",
    "    first_set &= set(second_list)\n",
    "    return list(first_set)\n"
   ]
  },
  {
   "cell_type": "markdown",
   "metadata": {},
   "source": [
    "Протестируем обе функции на одних и тех же данных."
   ]
  },
  {
   "cell_type": "code",
   "execution_count": 5,
   "metadata": {},
   "outputs": [
    {
     "name": "stdout",
     "output_type": "stream",
     "text": [
      "56 43 2 3 4 4 4 0 90 90\n",
      "2 2 2 3 3 3 57 90 117\n",
      "[2, 3, 90]\n",
      "[2, 3, 90]\n"
     ]
    }
   ],
   "source": [
    "first_list, second_list = list(map(int, input().split())), list(map(int, input().split()))\n",
    "print(find_unique_by_filter(first_list, second_list))\n",
    "print(find_unique_by_sets(first_list, second_list))\n"
   ]
  }
 ],
 "metadata": {
  "kernelspec": {
   "display_name": "Python 3",
   "language": "python",
   "name": "python3"
  },
  "language_info": {
   "codemirror_mode": {
    "name": "ipython",
    "version": 3
   },
   "file_extension": ".py",
   "mimetype": "text/x-python",
   "name": "python",
   "nbconvert_exporter": "python",
   "pygments_lexer": "ipython3",
   "version": "3.8.5"
  }
 },
 "nbformat": 4,
 "nbformat_minor": 4
}
