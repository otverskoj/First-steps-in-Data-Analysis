{
 "cells": [
  {
   "cell_type": "markdown",
   "metadata": {},
   "source": [
    "Дано два листа. Написать функцию возвращающую уникальные элементы, \n",
    "которые встречаются и в первом, и во втором листе.\n",
    "На входе: первый и второй лист. На выходе: лист элементов.\n",
    "Решение оформить в виде функции и вызывающего её кода."
   ]
  },
  {
   "cell_type": "markdown",
   "metadata": {},
   "source": [
    "Два варианта решения. Какой из них оптимальный? \n",
    "Первый делает больше операций, чем второй, а второй \"ест\" больше памяти, чем первый."
   ]
  },
  {
   "cell_type": "code",
   "execution_count": 16,
   "metadata": {
    "scrolled": true
   },
   "outputs": [
    {
     "name": "stdout",
     "output_type": "stream",
     "text": [
      "1 1 1 3 4 4 4 4 4 5 5\n",
      "8 8 8 3 4 4 4 4 4 5 \n",
      "[3, 4, 5]\n",
      "[3, 4, 5]\n"
     ]
    }
   ],
   "source": [
    "def find_unique(first_list, second_list):\n",
    "    unique_elements = set(filter(lambda x: x in second_list, first_list))\n",
    "    return list(unique_elements)\n",
    "\n",
    "\n",
    "def find_unique_by_sets(first_list, second_list):\n",
    "    first_set = set(first_list)\n",
    "    first_set &= set(second_list)\n",
    "    return list(first_set)\n",
    "\n",
    "\n",
    "first_list, second_list = list(map(int, input().split())), list(map(int, input().split()))\n",
    "print(find_unique(first_list, second_list))\n",
    "print(find_unique_by_sets(first_list, second_list))"
   ]
  }
 ],
 "metadata": {
  "kernelspec": {
   "display_name": "Python 3",
   "language": "python",
   "name": "python3"
  },
  "language_info": {
   "codemirror_mode": {
    "name": "ipython",
    "version": 3
   },
   "file_extension": ".py",
   "mimetype": "text/x-python",
   "name": "python",
   "nbconvert_exporter": "python",
   "pygments_lexer": "ipython3",
   "version": "3.8.5"
  }
 },
 "nbformat": 4,
 "nbformat_minor": 4
}
