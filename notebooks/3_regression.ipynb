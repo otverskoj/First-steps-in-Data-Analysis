{
 "cells": [
  {
   "cell_type": "markdown",
   "metadata": {},
   "source": [
    "# Регрессия "
   ]
  },
  {
   "cell_type": "markdown",
   "metadata": {},
   "source": [
    "## Импорт библиотек"
   ]
  },
  {
   "cell_type": "code",
   "execution_count": 36,
   "metadata": {},
   "outputs": [],
   "source": [
    "import pandas as pd\n",
    "import numpy as np\n",
    "\n",
    "from sklearn.linear_model import LinearRegression, Lasso, Ridge, ElasticNetCV\n",
    "from sklearn.tree import DecisionTreeRegressor\n",
    "from sklearn.model_selection import train_test_split, GridSearchCV\n",
    "from sklearn.metrics import mean_absolute_error, mean_squared_error\n",
    "from sklearn.preprocessing import StandardScaler\n",
    "\n",
    "import warnings\n",
    "warnings.filterwarnings('ignore')"
   ]
  },
  {
   "cell_type": "markdown",
   "metadata": {},
   "source": [
    "## Подготовка данных"
   ]
  },
  {
   "cell_type": "code",
   "execution_count": 43,
   "metadata": {},
   "outputs": [],
   "source": [
    "path_to_file = '../datasets/regression/metro_interstate_traffic_volume_preprocessed.csv'\n",
    "dataset = pd.read_csv(path_to_file)"
   ]
  },
  {
   "cell_type": "code",
   "execution_count": 4,
   "metadata": {},
   "outputs": [
    {
     "data": {
      "text/html": [
       "<div>\n",
       "<style scoped>\n",
       "    .dataframe tbody tr th:only-of-type {\n",
       "        vertical-align: middle;\n",
       "    }\n",
       "\n",
       "    .dataframe tbody tr th {\n",
       "        vertical-align: top;\n",
       "    }\n",
       "\n",
       "    .dataframe thead th {\n",
       "        text-align: right;\n",
       "    }\n",
       "</style>\n",
       "<table border=\"1\" class=\"dataframe\">\n",
       "  <thead>\n",
       "    <tr style=\"text-align: right;\">\n",
       "      <th></th>\n",
       "      <th>Unnamed: 0</th>\n",
       "      <th>temp</th>\n",
       "      <th>rain_1h</th>\n",
       "      <th>snow_1h</th>\n",
       "      <th>clouds_all</th>\n",
       "      <th>date_time</th>\n",
       "      <th>traffic_volume</th>\n",
       "      <th>h_Christmas Day</th>\n",
       "      <th>h_Columbus Day</th>\n",
       "      <th>h_Independence Day</th>\n",
       "      <th>...</th>\n",
       "      <th>wd_sleet</th>\n",
       "      <th>wd_smoke</th>\n",
       "      <th>wd_snow</th>\n",
       "      <th>wd_thunderstorm</th>\n",
       "      <th>wd_thunderstorm with drizzle</th>\n",
       "      <th>wd_thunderstorm with heavy rain</th>\n",
       "      <th>wd_thunderstorm with light drizzle</th>\n",
       "      <th>wd_thunderstorm with light rain</th>\n",
       "      <th>wd_thunderstorm with rain</th>\n",
       "      <th>wd_very heavy rain</th>\n",
       "    </tr>\n",
       "  </thead>\n",
       "  <tbody>\n",
       "    <tr>\n",
       "      <th>0</th>\n",
       "      <td>0</td>\n",
       "      <td>288.28</td>\n",
       "      <td>0.0</td>\n",
       "      <td>0.0</td>\n",
       "      <td>40</td>\n",
       "      <td>2012-10-02 09:00:00</td>\n",
       "      <td>5545</td>\n",
       "      <td>0</td>\n",
       "      <td>0</td>\n",
       "      <td>0</td>\n",
       "      <td>...</td>\n",
       "      <td>0</td>\n",
       "      <td>0</td>\n",
       "      <td>0</td>\n",
       "      <td>0</td>\n",
       "      <td>0</td>\n",
       "      <td>0</td>\n",
       "      <td>0</td>\n",
       "      <td>0</td>\n",
       "      <td>0</td>\n",
       "      <td>0</td>\n",
       "    </tr>\n",
       "    <tr>\n",
       "      <th>1</th>\n",
       "      <td>1</td>\n",
       "      <td>289.36</td>\n",
       "      <td>0.0</td>\n",
       "      <td>0.0</td>\n",
       "      <td>75</td>\n",
       "      <td>2012-10-02 10:00:00</td>\n",
       "      <td>4516</td>\n",
       "      <td>0</td>\n",
       "      <td>0</td>\n",
       "      <td>0</td>\n",
       "      <td>...</td>\n",
       "      <td>0</td>\n",
       "      <td>0</td>\n",
       "      <td>0</td>\n",
       "      <td>0</td>\n",
       "      <td>0</td>\n",
       "      <td>0</td>\n",
       "      <td>0</td>\n",
       "      <td>0</td>\n",
       "      <td>0</td>\n",
       "      <td>0</td>\n",
       "    </tr>\n",
       "    <tr>\n",
       "      <th>2</th>\n",
       "      <td>2</td>\n",
       "      <td>289.58</td>\n",
       "      <td>0.0</td>\n",
       "      <td>0.0</td>\n",
       "      <td>90</td>\n",
       "      <td>2012-10-02 11:00:00</td>\n",
       "      <td>4767</td>\n",
       "      <td>0</td>\n",
       "      <td>0</td>\n",
       "      <td>0</td>\n",
       "      <td>...</td>\n",
       "      <td>0</td>\n",
       "      <td>0</td>\n",
       "      <td>0</td>\n",
       "      <td>0</td>\n",
       "      <td>0</td>\n",
       "      <td>0</td>\n",
       "      <td>0</td>\n",
       "      <td>0</td>\n",
       "      <td>0</td>\n",
       "      <td>0</td>\n",
       "    </tr>\n",
       "    <tr>\n",
       "      <th>3</th>\n",
       "      <td>3</td>\n",
       "      <td>290.13</td>\n",
       "      <td>0.0</td>\n",
       "      <td>0.0</td>\n",
       "      <td>90</td>\n",
       "      <td>2012-10-02 12:00:00</td>\n",
       "      <td>5026</td>\n",
       "      <td>0</td>\n",
       "      <td>0</td>\n",
       "      <td>0</td>\n",
       "      <td>...</td>\n",
       "      <td>0</td>\n",
       "      <td>0</td>\n",
       "      <td>0</td>\n",
       "      <td>0</td>\n",
       "      <td>0</td>\n",
       "      <td>0</td>\n",
       "      <td>0</td>\n",
       "      <td>0</td>\n",
       "      <td>0</td>\n",
       "      <td>0</td>\n",
       "    </tr>\n",
       "    <tr>\n",
       "      <th>4</th>\n",
       "      <td>4</td>\n",
       "      <td>291.14</td>\n",
       "      <td>0.0</td>\n",
       "      <td>0.0</td>\n",
       "      <td>75</td>\n",
       "      <td>2012-10-02 13:00:00</td>\n",
       "      <td>4918</td>\n",
       "      <td>0</td>\n",
       "      <td>0</td>\n",
       "      <td>0</td>\n",
       "      <td>...</td>\n",
       "      <td>0</td>\n",
       "      <td>0</td>\n",
       "      <td>0</td>\n",
       "      <td>0</td>\n",
       "      <td>0</td>\n",
       "      <td>0</td>\n",
       "      <td>0</td>\n",
       "      <td>0</td>\n",
       "      <td>0</td>\n",
       "      <td>0</td>\n",
       "    </tr>\n",
       "  </tbody>\n",
       "</table>\n",
       "<p>5 rows × 67 columns</p>\n",
       "</div>"
      ],
      "text/plain": [
       "   Unnamed: 0    temp  rain_1h  snow_1h  clouds_all            date_time  \\\n",
       "0           0  288.28      0.0      0.0          40  2012-10-02 09:00:00   \n",
       "1           1  289.36      0.0      0.0          75  2012-10-02 10:00:00   \n",
       "2           2  289.58      0.0      0.0          90  2012-10-02 11:00:00   \n",
       "3           3  290.13      0.0      0.0          90  2012-10-02 12:00:00   \n",
       "4           4  291.14      0.0      0.0          75  2012-10-02 13:00:00   \n",
       "\n",
       "   traffic_volume  h_Christmas Day  h_Columbus Day  h_Independence Day  ...  \\\n",
       "0            5545                0               0                   0  ...   \n",
       "1            4516                0               0                   0  ...   \n",
       "2            4767                0               0                   0  ...   \n",
       "3            5026                0               0                   0  ...   \n",
       "4            4918                0               0                   0  ...   \n",
       "\n",
       "   wd_sleet  wd_smoke  wd_snow  wd_thunderstorm  wd_thunderstorm with drizzle  \\\n",
       "0         0         0        0                0                             0   \n",
       "1         0         0        0                0                             0   \n",
       "2         0         0        0                0                             0   \n",
       "3         0         0        0                0                             0   \n",
       "4         0         0        0                0                             0   \n",
       "\n",
       "   wd_thunderstorm with heavy rain  wd_thunderstorm with light drizzle  \\\n",
       "0                                0                                   0   \n",
       "1                                0                                   0   \n",
       "2                                0                                   0   \n",
       "3                                0                                   0   \n",
       "4                                0                                   0   \n",
       "\n",
       "   wd_thunderstorm with light rain  wd_thunderstorm with rain  \\\n",
       "0                                0                          0   \n",
       "1                                0                          0   \n",
       "2                                0                          0   \n",
       "3                                0                          0   \n",
       "4                                0                          0   \n",
       "\n",
       "   wd_very heavy rain  \n",
       "0                   0  \n",
       "1                   0  \n",
       "2                   0  \n",
       "3                   0  \n",
       "4                   0  \n",
       "\n",
       "[5 rows x 67 columns]"
      ]
     },
     "execution_count": 4,
     "metadata": {},
     "output_type": "execute_result"
    }
   ],
   "source": [
    "dataset.head()"
   ]
  },
  {
   "cell_type": "markdown",
   "metadata": {},
   "source": [
    "Удалим признаки *Unnamed: 0* (старая индексация) и *date_time* (дата/время), так как они не нужны для решения задачи"
   ]
  },
  {
   "cell_type": "code",
   "execution_count": 44,
   "metadata": {
    "scrolled": false
   },
   "outputs": [
    {
     "data": {
      "text/html": [
       "<div>\n",
       "<style scoped>\n",
       "    .dataframe tbody tr th:only-of-type {\n",
       "        vertical-align: middle;\n",
       "    }\n",
       "\n",
       "    .dataframe tbody tr th {\n",
       "        vertical-align: top;\n",
       "    }\n",
       "\n",
       "    .dataframe thead th {\n",
       "        text-align: right;\n",
       "    }\n",
       "</style>\n",
       "<table border=\"1\" class=\"dataframe\">\n",
       "  <thead>\n",
       "    <tr style=\"text-align: right;\">\n",
       "      <th></th>\n",
       "      <th>temp</th>\n",
       "      <th>rain_1h</th>\n",
       "      <th>snow_1h</th>\n",
       "      <th>clouds_all</th>\n",
       "      <th>traffic_volume</th>\n",
       "      <th>h_Christmas Day</th>\n",
       "      <th>h_Columbus Day</th>\n",
       "      <th>h_Independence Day</th>\n",
       "      <th>h_Labor Day</th>\n",
       "      <th>h_Martin Luther King Jr Day</th>\n",
       "      <th>...</th>\n",
       "      <th>wd_sleet</th>\n",
       "      <th>wd_smoke</th>\n",
       "      <th>wd_snow</th>\n",
       "      <th>wd_thunderstorm</th>\n",
       "      <th>wd_thunderstorm with drizzle</th>\n",
       "      <th>wd_thunderstorm with heavy rain</th>\n",
       "      <th>wd_thunderstorm with light drizzle</th>\n",
       "      <th>wd_thunderstorm with light rain</th>\n",
       "      <th>wd_thunderstorm with rain</th>\n",
       "      <th>wd_very heavy rain</th>\n",
       "    </tr>\n",
       "  </thead>\n",
       "  <tbody>\n",
       "    <tr>\n",
       "      <th>0</th>\n",
       "      <td>288.28</td>\n",
       "      <td>0.0</td>\n",
       "      <td>0.0</td>\n",
       "      <td>40</td>\n",
       "      <td>5545</td>\n",
       "      <td>0</td>\n",
       "      <td>0</td>\n",
       "      <td>0</td>\n",
       "      <td>0</td>\n",
       "      <td>0</td>\n",
       "      <td>...</td>\n",
       "      <td>0</td>\n",
       "      <td>0</td>\n",
       "      <td>0</td>\n",
       "      <td>0</td>\n",
       "      <td>0</td>\n",
       "      <td>0</td>\n",
       "      <td>0</td>\n",
       "      <td>0</td>\n",
       "      <td>0</td>\n",
       "      <td>0</td>\n",
       "    </tr>\n",
       "    <tr>\n",
       "      <th>1</th>\n",
       "      <td>289.36</td>\n",
       "      <td>0.0</td>\n",
       "      <td>0.0</td>\n",
       "      <td>75</td>\n",
       "      <td>4516</td>\n",
       "      <td>0</td>\n",
       "      <td>0</td>\n",
       "      <td>0</td>\n",
       "      <td>0</td>\n",
       "      <td>0</td>\n",
       "      <td>...</td>\n",
       "      <td>0</td>\n",
       "      <td>0</td>\n",
       "      <td>0</td>\n",
       "      <td>0</td>\n",
       "      <td>0</td>\n",
       "      <td>0</td>\n",
       "      <td>0</td>\n",
       "      <td>0</td>\n",
       "      <td>0</td>\n",
       "      <td>0</td>\n",
       "    </tr>\n",
       "    <tr>\n",
       "      <th>2</th>\n",
       "      <td>289.58</td>\n",
       "      <td>0.0</td>\n",
       "      <td>0.0</td>\n",
       "      <td>90</td>\n",
       "      <td>4767</td>\n",
       "      <td>0</td>\n",
       "      <td>0</td>\n",
       "      <td>0</td>\n",
       "      <td>0</td>\n",
       "      <td>0</td>\n",
       "      <td>...</td>\n",
       "      <td>0</td>\n",
       "      <td>0</td>\n",
       "      <td>0</td>\n",
       "      <td>0</td>\n",
       "      <td>0</td>\n",
       "      <td>0</td>\n",
       "      <td>0</td>\n",
       "      <td>0</td>\n",
       "      <td>0</td>\n",
       "      <td>0</td>\n",
       "    </tr>\n",
       "    <tr>\n",
       "      <th>3</th>\n",
       "      <td>290.13</td>\n",
       "      <td>0.0</td>\n",
       "      <td>0.0</td>\n",
       "      <td>90</td>\n",
       "      <td>5026</td>\n",
       "      <td>0</td>\n",
       "      <td>0</td>\n",
       "      <td>0</td>\n",
       "      <td>0</td>\n",
       "      <td>0</td>\n",
       "      <td>...</td>\n",
       "      <td>0</td>\n",
       "      <td>0</td>\n",
       "      <td>0</td>\n",
       "      <td>0</td>\n",
       "      <td>0</td>\n",
       "      <td>0</td>\n",
       "      <td>0</td>\n",
       "      <td>0</td>\n",
       "      <td>0</td>\n",
       "      <td>0</td>\n",
       "    </tr>\n",
       "    <tr>\n",
       "      <th>4</th>\n",
       "      <td>291.14</td>\n",
       "      <td>0.0</td>\n",
       "      <td>0.0</td>\n",
       "      <td>75</td>\n",
       "      <td>4918</td>\n",
       "      <td>0</td>\n",
       "      <td>0</td>\n",
       "      <td>0</td>\n",
       "      <td>0</td>\n",
       "      <td>0</td>\n",
       "      <td>...</td>\n",
       "      <td>0</td>\n",
       "      <td>0</td>\n",
       "      <td>0</td>\n",
       "      <td>0</td>\n",
       "      <td>0</td>\n",
       "      <td>0</td>\n",
       "      <td>0</td>\n",
       "      <td>0</td>\n",
       "      <td>0</td>\n",
       "      <td>0</td>\n",
       "    </tr>\n",
       "    <tr>\n",
       "      <th>...</th>\n",
       "      <td>...</td>\n",
       "      <td>...</td>\n",
       "      <td>...</td>\n",
       "      <td>...</td>\n",
       "      <td>...</td>\n",
       "      <td>...</td>\n",
       "      <td>...</td>\n",
       "      <td>...</td>\n",
       "      <td>...</td>\n",
       "      <td>...</td>\n",
       "      <td>...</td>\n",
       "      <td>...</td>\n",
       "      <td>...</td>\n",
       "      <td>...</td>\n",
       "      <td>...</td>\n",
       "      <td>...</td>\n",
       "      <td>...</td>\n",
       "      <td>...</td>\n",
       "      <td>...</td>\n",
       "      <td>...</td>\n",
       "      <td>...</td>\n",
       "    </tr>\n",
       "    <tr>\n",
       "      <th>48199</th>\n",
       "      <td>283.45</td>\n",
       "      <td>0.0</td>\n",
       "      <td>0.0</td>\n",
       "      <td>75</td>\n",
       "      <td>3543</td>\n",
       "      <td>0</td>\n",
       "      <td>0</td>\n",
       "      <td>0</td>\n",
       "      <td>0</td>\n",
       "      <td>0</td>\n",
       "      <td>...</td>\n",
       "      <td>0</td>\n",
       "      <td>0</td>\n",
       "      <td>0</td>\n",
       "      <td>0</td>\n",
       "      <td>0</td>\n",
       "      <td>0</td>\n",
       "      <td>0</td>\n",
       "      <td>0</td>\n",
       "      <td>0</td>\n",
       "      <td>0</td>\n",
       "    </tr>\n",
       "    <tr>\n",
       "      <th>48200</th>\n",
       "      <td>282.76</td>\n",
       "      <td>0.0</td>\n",
       "      <td>0.0</td>\n",
       "      <td>90</td>\n",
       "      <td>2781</td>\n",
       "      <td>0</td>\n",
       "      <td>0</td>\n",
       "      <td>0</td>\n",
       "      <td>0</td>\n",
       "      <td>0</td>\n",
       "      <td>...</td>\n",
       "      <td>0</td>\n",
       "      <td>0</td>\n",
       "      <td>0</td>\n",
       "      <td>0</td>\n",
       "      <td>0</td>\n",
       "      <td>0</td>\n",
       "      <td>0</td>\n",
       "      <td>0</td>\n",
       "      <td>0</td>\n",
       "      <td>0</td>\n",
       "    </tr>\n",
       "    <tr>\n",
       "      <th>48201</th>\n",
       "      <td>282.73</td>\n",
       "      <td>0.0</td>\n",
       "      <td>0.0</td>\n",
       "      <td>90</td>\n",
       "      <td>2159</td>\n",
       "      <td>0</td>\n",
       "      <td>0</td>\n",
       "      <td>0</td>\n",
       "      <td>0</td>\n",
       "      <td>0</td>\n",
       "      <td>...</td>\n",
       "      <td>0</td>\n",
       "      <td>0</td>\n",
       "      <td>0</td>\n",
       "      <td>0</td>\n",
       "      <td>0</td>\n",
       "      <td>0</td>\n",
       "      <td>0</td>\n",
       "      <td>0</td>\n",
       "      <td>0</td>\n",
       "      <td>0</td>\n",
       "    </tr>\n",
       "    <tr>\n",
       "      <th>48202</th>\n",
       "      <td>282.09</td>\n",
       "      <td>0.0</td>\n",
       "      <td>0.0</td>\n",
       "      <td>90</td>\n",
       "      <td>1450</td>\n",
       "      <td>0</td>\n",
       "      <td>0</td>\n",
       "      <td>0</td>\n",
       "      <td>0</td>\n",
       "      <td>0</td>\n",
       "      <td>...</td>\n",
       "      <td>0</td>\n",
       "      <td>0</td>\n",
       "      <td>0</td>\n",
       "      <td>0</td>\n",
       "      <td>0</td>\n",
       "      <td>0</td>\n",
       "      <td>0</td>\n",
       "      <td>0</td>\n",
       "      <td>0</td>\n",
       "      <td>0</td>\n",
       "    </tr>\n",
       "    <tr>\n",
       "      <th>48203</th>\n",
       "      <td>282.12</td>\n",
       "      <td>0.0</td>\n",
       "      <td>0.0</td>\n",
       "      <td>90</td>\n",
       "      <td>954</td>\n",
       "      <td>0</td>\n",
       "      <td>0</td>\n",
       "      <td>0</td>\n",
       "      <td>0</td>\n",
       "      <td>0</td>\n",
       "      <td>...</td>\n",
       "      <td>0</td>\n",
       "      <td>0</td>\n",
       "      <td>0</td>\n",
       "      <td>0</td>\n",
       "      <td>0</td>\n",
       "      <td>0</td>\n",
       "      <td>0</td>\n",
       "      <td>0</td>\n",
       "      <td>0</td>\n",
       "      <td>0</td>\n",
       "    </tr>\n",
       "  </tbody>\n",
       "</table>\n",
       "<p>48204 rows × 65 columns</p>\n",
       "</div>"
      ],
      "text/plain": [
       "         temp  rain_1h  snow_1h  clouds_all  traffic_volume  h_Christmas Day  \\\n",
       "0      288.28      0.0      0.0          40            5545                0   \n",
       "1      289.36      0.0      0.0          75            4516                0   \n",
       "2      289.58      0.0      0.0          90            4767                0   \n",
       "3      290.13      0.0      0.0          90            5026                0   \n",
       "4      291.14      0.0      0.0          75            4918                0   \n",
       "...       ...      ...      ...         ...             ...              ...   \n",
       "48199  283.45      0.0      0.0          75            3543                0   \n",
       "48200  282.76      0.0      0.0          90            2781                0   \n",
       "48201  282.73      0.0      0.0          90            2159                0   \n",
       "48202  282.09      0.0      0.0          90            1450                0   \n",
       "48203  282.12      0.0      0.0          90             954                0   \n",
       "\n",
       "       h_Columbus Day  h_Independence Day  h_Labor Day  \\\n",
       "0                   0                   0            0   \n",
       "1                   0                   0            0   \n",
       "2                   0                   0            0   \n",
       "3                   0                   0            0   \n",
       "4                   0                   0            0   \n",
       "...               ...                 ...          ...   \n",
       "48199               0                   0            0   \n",
       "48200               0                   0            0   \n",
       "48201               0                   0            0   \n",
       "48202               0                   0            0   \n",
       "48203               0                   0            0   \n",
       "\n",
       "       h_Martin Luther King Jr Day  ...  wd_sleet  wd_smoke  wd_snow  \\\n",
       "0                                0  ...         0         0        0   \n",
       "1                                0  ...         0         0        0   \n",
       "2                                0  ...         0         0        0   \n",
       "3                                0  ...         0         0        0   \n",
       "4                                0  ...         0         0        0   \n",
       "...                            ...  ...       ...       ...      ...   \n",
       "48199                            0  ...         0         0        0   \n",
       "48200                            0  ...         0         0        0   \n",
       "48201                            0  ...         0         0        0   \n",
       "48202                            0  ...         0         0        0   \n",
       "48203                            0  ...         0         0        0   \n",
       "\n",
       "       wd_thunderstorm  wd_thunderstorm with drizzle  \\\n",
       "0                    0                             0   \n",
       "1                    0                             0   \n",
       "2                    0                             0   \n",
       "3                    0                             0   \n",
       "4                    0                             0   \n",
       "...                ...                           ...   \n",
       "48199                0                             0   \n",
       "48200                0                             0   \n",
       "48201                0                             0   \n",
       "48202                0                             0   \n",
       "48203                0                             0   \n",
       "\n",
       "       wd_thunderstorm with heavy rain  wd_thunderstorm with light drizzle  \\\n",
       "0                                    0                                   0   \n",
       "1                                    0                                   0   \n",
       "2                                    0                                   0   \n",
       "3                                    0                                   0   \n",
       "4                                    0                                   0   \n",
       "...                                ...                                 ...   \n",
       "48199                                0                                   0   \n",
       "48200                                0                                   0   \n",
       "48201                                0                                   0   \n",
       "48202                                0                                   0   \n",
       "48203                                0                                   0   \n",
       "\n",
       "       wd_thunderstorm with light rain  wd_thunderstorm with rain  \\\n",
       "0                                    0                          0   \n",
       "1                                    0                          0   \n",
       "2                                    0                          0   \n",
       "3                                    0                          0   \n",
       "4                                    0                          0   \n",
       "...                                ...                        ...   \n",
       "48199                                0                          0   \n",
       "48200                                0                          0   \n",
       "48201                                0                          0   \n",
       "48202                                0                          0   \n",
       "48203                                0                          0   \n",
       "\n",
       "       wd_very heavy rain  \n",
       "0                       0  \n",
       "1                       0  \n",
       "2                       0  \n",
       "3                       0  \n",
       "4                       0  \n",
       "...                   ...  \n",
       "48199                   0  \n",
       "48200                   0  \n",
       "48201                   0  \n",
       "48202                   0  \n",
       "48203                   0  \n",
       "\n",
       "[48204 rows x 65 columns]"
      ]
     },
     "execution_count": 44,
     "metadata": {},
     "output_type": "execute_result"
    }
   ],
   "source": [
    "dataset = dataset.drop(['Unnamed: 0', 'date_time'], axis=1)\n",
    "dataset"
   ]
  },
  {
   "cell_type": "markdown",
   "metadata": {},
   "source": [
    "Разделим датасет на матрицу \"объект-признак\" и вектор-столбец ответов "
   ]
  },
  {
   "cell_type": "code",
   "execution_count": 45,
   "metadata": {},
   "outputs": [],
   "source": [
    "X = dataset.iloc[:, [0, 1, 2, 3] + list(range(5, 65))]\n",
    "y = dataset.iloc[:, 4]"
   ]
  },
  {
   "cell_type": "code",
   "execution_count": 13,
   "metadata": {},
   "outputs": [
    {
     "data": {
      "text/html": [
       "<div>\n",
       "<style scoped>\n",
       "    .dataframe tbody tr th:only-of-type {\n",
       "        vertical-align: middle;\n",
       "    }\n",
       "\n",
       "    .dataframe tbody tr th {\n",
       "        vertical-align: top;\n",
       "    }\n",
       "\n",
       "    .dataframe thead th {\n",
       "        text-align: right;\n",
       "    }\n",
       "</style>\n",
       "<table border=\"1\" class=\"dataframe\">\n",
       "  <thead>\n",
       "    <tr style=\"text-align: right;\">\n",
       "      <th></th>\n",
       "      <th>temp</th>\n",
       "      <th>rain_1h</th>\n",
       "      <th>snow_1h</th>\n",
       "      <th>clouds_all</th>\n",
       "      <th>h_Christmas Day</th>\n",
       "      <th>h_Columbus Day</th>\n",
       "      <th>h_Independence Day</th>\n",
       "      <th>h_Labor Day</th>\n",
       "      <th>h_Martin Luther King Jr Day</th>\n",
       "      <th>h_Memorial Day</th>\n",
       "      <th>...</th>\n",
       "      <th>wd_sleet</th>\n",
       "      <th>wd_smoke</th>\n",
       "      <th>wd_snow</th>\n",
       "      <th>wd_thunderstorm</th>\n",
       "      <th>wd_thunderstorm with drizzle</th>\n",
       "      <th>wd_thunderstorm with heavy rain</th>\n",
       "      <th>wd_thunderstorm with light drizzle</th>\n",
       "      <th>wd_thunderstorm with light rain</th>\n",
       "      <th>wd_thunderstorm with rain</th>\n",
       "      <th>wd_very heavy rain</th>\n",
       "    </tr>\n",
       "  </thead>\n",
       "  <tbody>\n",
       "    <tr>\n",
       "      <th>0</th>\n",
       "      <td>288.28</td>\n",
       "      <td>0.0</td>\n",
       "      <td>0.0</td>\n",
       "      <td>40</td>\n",
       "      <td>0</td>\n",
       "      <td>0</td>\n",
       "      <td>0</td>\n",
       "      <td>0</td>\n",
       "      <td>0</td>\n",
       "      <td>0</td>\n",
       "      <td>...</td>\n",
       "      <td>0</td>\n",
       "      <td>0</td>\n",
       "      <td>0</td>\n",
       "      <td>0</td>\n",
       "      <td>0</td>\n",
       "      <td>0</td>\n",
       "      <td>0</td>\n",
       "      <td>0</td>\n",
       "      <td>0</td>\n",
       "      <td>0</td>\n",
       "    </tr>\n",
       "    <tr>\n",
       "      <th>1</th>\n",
       "      <td>289.36</td>\n",
       "      <td>0.0</td>\n",
       "      <td>0.0</td>\n",
       "      <td>75</td>\n",
       "      <td>0</td>\n",
       "      <td>0</td>\n",
       "      <td>0</td>\n",
       "      <td>0</td>\n",
       "      <td>0</td>\n",
       "      <td>0</td>\n",
       "      <td>...</td>\n",
       "      <td>0</td>\n",
       "      <td>0</td>\n",
       "      <td>0</td>\n",
       "      <td>0</td>\n",
       "      <td>0</td>\n",
       "      <td>0</td>\n",
       "      <td>0</td>\n",
       "      <td>0</td>\n",
       "      <td>0</td>\n",
       "      <td>0</td>\n",
       "    </tr>\n",
       "    <tr>\n",
       "      <th>2</th>\n",
       "      <td>289.58</td>\n",
       "      <td>0.0</td>\n",
       "      <td>0.0</td>\n",
       "      <td>90</td>\n",
       "      <td>0</td>\n",
       "      <td>0</td>\n",
       "      <td>0</td>\n",
       "      <td>0</td>\n",
       "      <td>0</td>\n",
       "      <td>0</td>\n",
       "      <td>...</td>\n",
       "      <td>0</td>\n",
       "      <td>0</td>\n",
       "      <td>0</td>\n",
       "      <td>0</td>\n",
       "      <td>0</td>\n",
       "      <td>0</td>\n",
       "      <td>0</td>\n",
       "      <td>0</td>\n",
       "      <td>0</td>\n",
       "      <td>0</td>\n",
       "    </tr>\n",
       "    <tr>\n",
       "      <th>3</th>\n",
       "      <td>290.13</td>\n",
       "      <td>0.0</td>\n",
       "      <td>0.0</td>\n",
       "      <td>90</td>\n",
       "      <td>0</td>\n",
       "      <td>0</td>\n",
       "      <td>0</td>\n",
       "      <td>0</td>\n",
       "      <td>0</td>\n",
       "      <td>0</td>\n",
       "      <td>...</td>\n",
       "      <td>0</td>\n",
       "      <td>0</td>\n",
       "      <td>0</td>\n",
       "      <td>0</td>\n",
       "      <td>0</td>\n",
       "      <td>0</td>\n",
       "      <td>0</td>\n",
       "      <td>0</td>\n",
       "      <td>0</td>\n",
       "      <td>0</td>\n",
       "    </tr>\n",
       "    <tr>\n",
       "      <th>4</th>\n",
       "      <td>291.14</td>\n",
       "      <td>0.0</td>\n",
       "      <td>0.0</td>\n",
       "      <td>75</td>\n",
       "      <td>0</td>\n",
       "      <td>0</td>\n",
       "      <td>0</td>\n",
       "      <td>0</td>\n",
       "      <td>0</td>\n",
       "      <td>0</td>\n",
       "      <td>...</td>\n",
       "      <td>0</td>\n",
       "      <td>0</td>\n",
       "      <td>0</td>\n",
       "      <td>0</td>\n",
       "      <td>0</td>\n",
       "      <td>0</td>\n",
       "      <td>0</td>\n",
       "      <td>0</td>\n",
       "      <td>0</td>\n",
       "      <td>0</td>\n",
       "    </tr>\n",
       "  </tbody>\n",
       "</table>\n",
       "<p>5 rows × 64 columns</p>\n",
       "</div>"
      ],
      "text/plain": [
       "     temp  rain_1h  snow_1h  clouds_all  h_Christmas Day  h_Columbus Day  \\\n",
       "0  288.28      0.0      0.0          40                0               0   \n",
       "1  289.36      0.0      0.0          75                0               0   \n",
       "2  289.58      0.0      0.0          90                0               0   \n",
       "3  290.13      0.0      0.0          90                0               0   \n",
       "4  291.14      0.0      0.0          75                0               0   \n",
       "\n",
       "   h_Independence Day  h_Labor Day  h_Martin Luther King Jr Day  \\\n",
       "0                   0            0                            0   \n",
       "1                   0            0                            0   \n",
       "2                   0            0                            0   \n",
       "3                   0            0                            0   \n",
       "4                   0            0                            0   \n",
       "\n",
       "   h_Memorial Day  ...  wd_sleet  wd_smoke  wd_snow  wd_thunderstorm  \\\n",
       "0               0  ...         0         0        0                0   \n",
       "1               0  ...         0         0        0                0   \n",
       "2               0  ...         0         0        0                0   \n",
       "3               0  ...         0         0        0                0   \n",
       "4               0  ...         0         0        0                0   \n",
       "\n",
       "   wd_thunderstorm with drizzle  wd_thunderstorm with heavy rain  \\\n",
       "0                             0                                0   \n",
       "1                             0                                0   \n",
       "2                             0                                0   \n",
       "3                             0                                0   \n",
       "4                             0                                0   \n",
       "\n",
       "   wd_thunderstorm with light drizzle  wd_thunderstorm with light rain  \\\n",
       "0                                   0                                0   \n",
       "1                                   0                                0   \n",
       "2                                   0                                0   \n",
       "3                                   0                                0   \n",
       "4                                   0                                0   \n",
       "\n",
       "   wd_thunderstorm with rain  wd_very heavy rain  \n",
       "0                          0                   0  \n",
       "1                          0                   0  \n",
       "2                          0                   0  \n",
       "3                          0                   0  \n",
       "4                          0                   0  \n",
       "\n",
       "[5 rows x 64 columns]"
      ]
     },
     "execution_count": 13,
     "metadata": {},
     "output_type": "execute_result"
    }
   ],
   "source": [
    "X.head()"
   ]
  },
  {
   "cell_type": "code",
   "execution_count": 11,
   "metadata": {},
   "outputs": [
    {
     "data": {
      "text/plain": [
       "0    5545\n",
       "1    4516\n",
       "2    4767\n",
       "3    5026\n",
       "4    4918\n",
       "Name: traffic_volume, dtype: int64"
      ]
     },
     "execution_count": 11,
     "metadata": {},
     "output_type": "execute_result"
    }
   ],
   "source": [
    "y.head()"
   ]
  },
  {
   "cell_type": "markdown",
   "metadata": {},
   "source": [
    "Разделим данные на обучающую и тестовую выборки"
   ]
  },
  {
   "cell_type": "code",
   "execution_count": 46,
   "metadata": {},
   "outputs": [],
   "source": [
    "X_train, X_test, y_train, y_test = train_test_split(X, y, test_size=0.2) "
   ]
  },
  {
   "cell_type": "markdown",
   "metadata": {},
   "source": [
    "Теперь **масштабируем** признаки"
   ]
  },
  {
   "cell_type": "code",
   "execution_count": 47,
   "metadata": {},
   "outputs": [
    {
     "data": {
      "text/plain": [
       "StandardScaler()"
      ]
     },
     "execution_count": 47,
     "metadata": {},
     "output_type": "execute_result"
    }
   ],
   "source": [
    "scaler = StandardScaler()\n",
    "scaler.fit(X_train)"
   ]
  },
  {
   "cell_type": "code",
   "execution_count": 48,
   "metadata": {},
   "outputs": [],
   "source": [
    "X_train = scaler.transform(X_train)\n",
    "X_test = scaler.transform(X_test)"
   ]
  },
  {
   "cell_type": "markdown",
   "metadata": {},
   "source": [
    "## Решение задачи регрессии"
   ]
  },
  {
   "cell_type": "markdown",
   "metadata": {},
   "source": [
    "### Вспомогательные функции"
   ]
  },
  {
   "cell_type": "markdown",
   "metadata": {},
   "source": [
    "Функция *fit_reg_by_grid_search_cv* возвращает обученный данный алгоритм с подбором параметров по сетке с кросс-валидацией"
   ]
  },
  {
   "cell_type": "code",
   "execution_count": 18,
   "metadata": {},
   "outputs": [],
   "source": [
    "def fit_reg_by_grid_search_cv(estimator, params):\n",
    "    reg = GridSearchCV(estimator, params)\n",
    "    reg.fit(X_train, y_train)\n",
    "    return reg"
   ]
  },
  {
   "cell_type": "markdown",
   "metadata": {},
   "source": [
    "Функция *print_metrics_score* выводит оценки алгоритма по критериям R^2, Mean Square Error(mse), Root Mean Square Error(rmse),  Mean Absolute Error(mae)"
   ]
  },
  {
   "cell_type": "code",
   "execution_count": 24,
   "metadata": {},
   "outputs": [],
   "source": [
    "def print_metrics_score(regressor):\n",
    "    y_pred = regressor.predict(X_test)\n",
    "    \n",
    "    r2 = regressor.score(X_test, y_test)\n",
    "    mae = mean_absolute_error(y_test, y_pred)\n",
    "    mse = mean_squared_error(y_test, y_pred)\n",
    "    rmse = np.sqrt(mse)\n",
    "    \n",
    "    print(f'R^2: {r2}\\nMean Absolute Error: {mae}\\nMean Squared Error: {mse}\\nRoot Mean Squared Error: {rmse}')"
   ]
  },
  {
   "cell_type": "markdown",
   "metadata": {},
   "source": [
    "### Линейная регрессия"
   ]
  },
  {
   "cell_type": "markdown",
   "metadata": {},
   "source": [
    "Обучим линейную регрессию на наших данных, посмотрим на значения метрик"
   ]
  },
  {
   "cell_type": "code",
   "execution_count": 25,
   "metadata": {},
   "outputs": [
    {
     "name": "stdout",
     "output_type": "stream",
     "text": [
      "R^2: -7.243954332276073e+21\n",
      "Mean Absolute Error: 1720467851671.8792\n",
      "Mean Squared Error: 2.8537452773949284e+28\n",
      "Root Mean Squared Error: 168930319285643.0\n"
     ]
    }
   ],
   "source": [
    "lin_reg = LinearRegression()\n",
    "\n",
    "lin_reg.fit(X_train, y_train)\n",
    "\n",
    "print_metrics_score(lin_reg)"
   ]
  },
  {
   "cell_type": "markdown",
   "metadata": {},
   "source": [
    "Видно, что линейная регрессия плохо подходит для решения задачи на наших данных, потому что ошибки слишком большие"
   ]
  },
  {
   "cell_type": "markdown",
   "metadata": {},
   "source": [
    "### Дерево решений"
   ]
  },
  {
   "cell_type": "markdown",
   "metadata": {},
   "source": [
    "Посмотрим на то, как справится с задачей дерево решений. Подберём параметры max_depth, min_samples_leaf"
   ]
  },
  {
   "cell_type": "code",
   "execution_count": 30,
   "metadata": {},
   "outputs": [
    {
     "name": "stdout",
     "output_type": "stream",
     "text": [
      "R^2: -0.05584058300711536\n",
      "Mean Absolute Error: 1653.900238204975\n",
      "Mean Squared Error: 4159468.6261526146\n",
      "Root Mean Squared Error: 2039.4775375454897\n"
     ]
    }
   ],
   "source": [
    "params = {\n",
    "    'max_depth': [500, 1000, 1500, 2000],\n",
    "    'min_samples_leaf': [1, 2, 3, 4, 5]\n",
    "}\n",
    "\n",
    "reg = fit_reg_by_grid_search_cv(DecisionTreeRegressor(), params)\n",
    "\n",
    "print_metrics_score(reg)"
   ]
  },
  {
   "cell_type": "markdown",
   "metadata": {},
   "source": [
    "Посмотрим на оптимальные параметры"
   ]
  },
  {
   "cell_type": "code",
   "execution_count": 31,
   "metadata": {},
   "outputs": [
    {
     "data": {
      "text/plain": [
       "{'max_depth': 2000, 'min_samples_leaf': 5}"
      ]
     },
     "execution_count": 31,
     "metadata": {},
     "output_type": "execute_result"
    }
   ],
   "source": [
    "reg.best_params_"
   ]
  },
  {
   "cell_type": "markdown",
   "metadata": {},
   "source": [
    "Ошибка меньше, чем на линейной регрессии, но всё равно большая"
   ]
  },
  {
   "cell_type": "markdown",
   "metadata": {},
   "source": [
    "### Lasso регрессия"
   ]
  },
  {
   "cell_type": "markdown",
   "metadata": {},
   "source": [
    "Теперь посмотрим на Lasso (линейная модель с L1-регуляризацией)   \n",
    "Поподбираем параметры alpha - константу перед множителем регуляризации, max_iter - максимальное число итераций алгоритма"
   ]
  },
  {
   "cell_type": "code",
   "execution_count": 37,
   "metadata": {},
   "outputs": [
    {
     "name": "stdout",
     "output_type": "stream",
     "text": [
      "R^2: 0.05111016965195614\n",
      "Mean Absolute Error: 1678.1001850025923\n",
      "Mean Squared Error: 3738137.6909826235\n",
      "Root Mean Squared Error: 1933.4264120939858\n"
     ]
    }
   ],
   "source": [
    "params = {\n",
    "    'alpha': [0.2, 0.4, 0.5, 0.6, 0.8], \n",
    "    'max_iter': [1000, 2000]\n",
    "}\n",
    "\n",
    "reg = fit_reg_by_grid_search_cv(Lasso(), params)\n",
    "\n",
    "print_metrics_score(reg)"
   ]
  },
  {
   "cell_type": "markdown",
   "metadata": {},
   "source": [
    "Посмотрим на оптимальные параметры"
   ]
  },
  {
   "cell_type": "code",
   "execution_count": 38,
   "metadata": {},
   "outputs": [
    {
     "data": {
      "text/plain": [
       "{'alpha': 0.8, 'max_iter': 1000}"
      ]
     },
     "execution_count": 38,
     "metadata": {},
     "output_type": "execute_result"
    }
   ],
   "source": [
    "reg.best_params_"
   ]
  },
  {
   "cell_type": "markdown",
   "metadata": {},
   "source": [
    "Теперь посмотрим на веса коэффициентов"
   ]
  },
  {
   "cell_type": "code",
   "execution_count": 39,
   "metadata": {},
   "outputs": [
    {
     "data": {
      "text/plain": [
       "array([ 2.64984176e+02,  1.13285020e+01,  1.28350758e+01,  3.26002976e+02,\n",
       "       -2.65315824e+01, -3.03551597e+01, -1.78797936e+01, -2.65978824e+01,\n",
       "       -2.85953888e+01, -2.76257869e+01, -1.67666960e+01, -2.63472195e+01,\n",
       "       -2.52055200e+01, -2.94515327e+01, -2.11351287e+01,  1.44187337e+02,\n",
       "        1.60441352e+02, -3.34229447e+00, -4.70295830e+01,  7.66425272e+01,\n",
       "       -9.07908445e+01, -0.00000000e+00,  3.35778096e+00, -4.60489628e+00,\n",
       "       -1.43127619e+01, -5.53190387e+01, -8.26333812e-02,  4.43206949e+01,\n",
       "        1.50726672e-01, -3.90684707e+01,  8.10836373e+01, -1.33872615e+00,\n",
       "        6.61735247e+00,  2.93925447e+00,  3.12517441e-01, -4.64619354e+01,\n",
       "       -1.43621226e+01, -0.00000000e+00,  9.61196812e+00,  0.00000000e+00,\n",
       "        1.42825788e+01,  1.82466873e+01, -0.00000000e+00, -1.55594934e+00,\n",
       "       -4.22405594e+01, -1.03549440e+02,  5.43333185e+01, -0.00000000e+00,\n",
       "        1.18286558e+00, -5.66769194e+00,  1.00532651e+02,  2.74165564e+00,\n",
       "        0.00000000e+00,  0.00000000e+00,  7.94087943e+00,  2.21849631e-03,\n",
       "       -3.76783765e+01, -1.34347041e+01, -5.67992387e+00, -1.07511222e+01,\n",
       "       -1.16064557e+00, -8.72307814e+00,  1.18042884e+01, -1.36064027e+01])"
      ]
     },
     "execution_count": 39,
     "metadata": {},
     "output_type": "execute_result"
    }
   ],
   "source": [
    "reg.best_estimator_.coef_"
   ]
  },
  {
   "cell_type": "markdown",
   "metadata": {},
   "source": [
    "Видно, что веса при некоторых признаках почти равны 0. L1-регуляризация провела отбор признаков"
   ]
  },
  {
   "cell_type": "markdown",
   "metadata": {},
   "source": [
    "Ошибка примерно такая же, как и при испольовазнии дерева решений"
   ]
  },
  {
   "cell_type": "markdown",
   "metadata": {},
   "source": [
    "### Ridge регрессия"
   ]
  },
  {
   "cell_type": "markdown",
   "metadata": {},
   "source": [
    "Посмотрим на Ridge (линейная модель с L2-регуляризацией). Будем подбирать параметры alpha (аналогично предыдущему) и max_iter"
   ]
  },
  {
   "cell_type": "code",
   "execution_count": 49,
   "metadata": {},
   "outputs": [
    {
     "name": "stdout",
     "output_type": "stream",
     "text": [
      "R^2: 0.04953961001916707\n",
      "Mean Absolute Error: 1669.546780102418\n",
      "Mean Squared Error: 3714557.7653065016\n",
      "Root Mean Squared Error: 1927.3188021981473\n"
     ]
    }
   ],
   "source": [
    "params = {\n",
    "    'alpha': [0.2, 0.4, 0.5, 0.6, 0.8], \n",
    "    'max_iter': [1000, 2000]\n",
    "}\n",
    "\n",
    "reg = fit_reg_by_grid_search_cv(Ridge(), params)\n",
    "\n",
    "print_metrics_score(reg)"
   ]
  },
  {
   "cell_type": "markdown",
   "metadata": {},
   "source": [
    "Результат аналогичен предыдущему   \n",
    "Посмотрим на оптимальные параметры и коэффициенты модели"
   ]
  },
  {
   "cell_type": "code",
   "execution_count": 50,
   "metadata": {},
   "outputs": [
    {
     "data": {
      "text/plain": [
       "{'alpha': 0.8, 'max_iter': 1000}"
      ]
     },
     "execution_count": 50,
     "metadata": {},
     "output_type": "execute_result"
    }
   ],
   "source": [
    "reg.best_params_"
   ]
  },
  {
   "cell_type": "code",
   "execution_count": 51,
   "metadata": {},
   "outputs": [
    {
     "data": {
      "text/plain": [
       "array([263.1201082 ,  12.79795794,   1.98952536, 332.97858673,\n",
       "       -24.996593  , -23.93975523, -23.22082142, -27.64933624,\n",
       "       -24.74780352, -25.02023919, -16.21114066, -28.84483862,\n",
       "       -24.31052326, -26.56819458, -28.437431  ,  53.73676339,\n",
       "        66.98704055, -26.92238296, -39.43419401,  26.3438889 ,\n",
       "       -69.39305333, -39.3460812 ,  -2.17297974, -30.8958456 ,\n",
       "        -8.29280376, -42.1609461 ,  -8.29280376,  53.36368058,\n",
       "        24.4214967 , -43.41254137, 104.2266636 , -39.43419401,\n",
       "         7.26273663,  26.3438889 ,  -7.54582294, -36.55791693,\n",
       "       -20.19306125,   0.91988757,   7.1574637 , -11.47518876,\n",
       "         4.00856245,  22.37557697, -12.63538172, -69.39305333,\n",
       "       -50.22581474, -91.87740747,  57.71829414, -27.49601661,\n",
       "        -1.69791039,  -8.91089348, 121.24198854,   3.28971202,\n",
       "         0.        ,  33.07272323,   8.46229372,  -2.17297974,\n",
       "       -38.33212364, -22.57290423,  -8.14709481, -16.35050752,\n",
       "        -6.38344742, -14.99421511,  -4.83880084, -17.32480203])"
      ]
     },
     "execution_count": 51,
     "metadata": {},
     "output_type": "execute_result"
    }
   ],
   "source": [
    "reg.best_estimator_.coef_"
   ]
  },
  {
   "cell_type": "markdown",
   "metadata": {},
   "source": [
    "### ElasticNet регрессия"
   ]
  },
  {
   "cell_type": "markdown",
   "metadata": {},
   "source": [
    "Протестируем работу алгоритма ElasticNet (линейная модель, совмещающая в себе L1- и L2-регуляризации)на наших данных   \n",
    "Будем использовать класс ElasticNetCV для подборки параметров на кросс-валидации"
   ]
  },
  {
   "cell_type": "code",
   "execution_count": 55,
   "metadata": {},
   "outputs": [
    {
     "name": "stdout",
     "output_type": "stream",
     "text": [
      "R^2: 0.04507284293669578\n",
      "Mean Absolute Error: 1679.4645093773856\n",
      "Mean Squared Error: 3732014.63623654\n",
      "Root Mean Squared Error: 1931.842290725757\n"
     ]
    }
   ],
   "source": [
    "elastic_net_reg = ElasticNetCV()\n",
    "\n",
    "elastic_net_reg.fit(X_train, y_train)\n",
    "\n",
    "print_metrics_score(elastic_net_reg)"
   ]
  },
  {
   "cell_type": "markdown",
   "metadata": {},
   "source": [
    "Посмотрим на коэффициенты модели"
   ]
  },
  {
   "cell_type": "code",
   "execution_count": 56,
   "metadata": {},
   "outputs": [
    {
     "data": {
      "text/plain": [
       "array([199.81531906,   9.61695951,   1.62725387, 144.84198447,\n",
       "       -19.69634766, -18.74315963, -18.41757616, -22.37965808,\n",
       "       -20.07264257, -19.52308994, -12.84700067, -22.09490454,\n",
       "       -19.45193327, -19.79458944, -22.49737876,  -1.12016797,\n",
       "        75.55425961,  -9.13360767, -35.2091813 ,  24.29316059,\n",
       "       -52.54614706, -15.55607322,  -1.50116563, -18.4544976 ,\n",
       "        -6.43576871, -28.62246018,  -6.43602317,  30.94002591,\n",
       "        40.01827139, -26.29929938,  58.23696683, -35.20948215,\n",
       "         5.99581583,  24.28961176,  -2.50400998, -20.6698962 ,\n",
       "       -10.47033589,   7.81857653,   7.25054908,  -1.58920204,\n",
       "         3.58021691,  17.705596  ,  -7.37343808, -52.55312673,\n",
       "       -27.82516741, -36.05699855,  49.88919775, -18.42844301,\n",
       "         0.        ,  -5.01877901,  87.88418665,   2.96593406,\n",
       "         0.        , -15.03222109,   7.28935029,  -1.5016315 ,\n",
       "       -25.33460854, -15.83654515,  -5.53417822, -10.13290685,\n",
       "        -3.16193998, -10.09086848,  -1.09984925, -12.90828962])"
      ]
     },
     "execution_count": 56,
     "metadata": {},
     "output_type": "execute_result"
    }
   ],
   "source": [
    "elastic_net_reg.coef_"
   ]
  },
  {
   "cell_type": "markdown",
   "metadata": {},
   "source": [
    "## Выводы"
   ]
  },
  {
   "cell_type": "markdown",
   "metadata": {},
   "source": [
    "Если не брать в расчёт линейную регрессию, на всех алгоритмах ошибка **большая**, но **примерно одинаковая**  \n",
    "Можно использовать любой из этих алгоритмов (кроме линейной регрессии)"
   ]
  }
 ],
 "metadata": {
  "kernelspec": {
   "display_name": "Python 3",
   "language": "python",
   "name": "python3"
  },
  "language_info": {
   "codemirror_mode": {
    "name": "ipython",
    "version": 3
   },
   "file_extension": ".py",
   "mimetype": "text/x-python",
   "name": "python",
   "nbconvert_exporter": "python",
   "pygments_lexer": "ipython3",
   "version": "3.9.0"
  }
 },
 "nbformat": 4,
 "nbformat_minor": 4
}
