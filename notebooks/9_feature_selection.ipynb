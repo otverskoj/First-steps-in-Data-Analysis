{
  "nbformat": 4,
  "nbformat_minor": 0,
  "metadata": {
    "colab": {
      "name": "feature_selection.ipynb",
      "provenance": [],
      "collapsed_sections": [],
      "toc_visible": true
    },
    "kernelspec": {
      "name": "python3",
      "display_name": "Python 3"
    },
    "language_info": {
      "name": "python"
    }
  },
  "cells": [
    {
      "cell_type": "markdown",
      "metadata": {
        "id": "riuQJHfwVVAW"
      },
      "source": [
        "[Публичная ссылка на ноутбук](https://colab.research.google.com/drive/1Dhg5Fkr_10OgwtSNq1FqHu_oNcJzhQVB?usp=sharing)"
      ]
    },
    {
      "cell_type": "markdown",
      "metadata": {
        "id": "xHgLRDlAV5I9"
      },
      "source": [
        "# Отбор признаков\n",
        "\n",
        "В прошлом семестре приходилось руками отбирать признаки через статистические связи (матрица корреляций), уникальность значений каждого признака и тд.\n",
        "\n",
        "Для этой задачи в sklearn существуют автоматизированные методы"
      ]
    },
    {
      "cell_type": "code",
      "metadata": {
        "id": "uUexwm5qtAy8"
      },
      "source": [
        "import itertools\n",
        "\n",
        "import numpy as np\n",
        "import pandas as pd\n",
        "\n",
        "from sklearn.model_selection import train_test_split, StratifiedKFold\n",
        "from sklearn.preprocessing import StandardScaler\n",
        "\n",
        "from sklearn.linear_model import LogisticRegression\n",
        "from sklearn.tree import DecisionTreeClassifier\n",
        "from sklearn.metrics import f1_score\n",
        "\n",
        "from sklearn.feature_selection import (SelectKBest, \n",
        "                                       chi2, f_classif, f_regression,\n",
        "                                       RFE)\n",
        "from sklearn.decomposition import PCA\n",
        "from sklearn.ensemble import ExtraTreesClassifier"
      ],
      "execution_count": null,
      "outputs": []
    },
    {
      "cell_type": "markdown",
      "metadata": {
        "id": "ahQfNt9uXgN7"
      },
      "source": [
        "## 0 Подготовка данных\n",
        "\n",
        "Загрузим данные, подготовим их к работе"
      ]
    },
    {
      "cell_type": "code",
      "metadata": {
        "colab": {
          "base_uri": "https://localhost:8080/",
          "height": 204
        },
        "id": "2WCl0CyoXjan",
        "outputId": "8f6f97e4-022d-42aa-e30a-927f73d97567"
      },
      "source": [
        "url = 'https://raw.githubusercontent.com/otverskoj/First-steps-in-Data-Analysis/main/datasets/classification/occupancy_detection_preprocessed.csv'\n",
        "names = ['date', 'temperature', 'humidity', 'light', 'co2', 'humidity_ratio', 'occupancy']\n",
        "df = pd.read_csv(url, names=names, skiprows=1).reset_index(drop=True).drop(['date'], axis=1)\n",
        "df.head()"
      ],
      "execution_count": null,
      "outputs": [
        {
          "output_type": "execute_result",
          "data": {
            "text/html": [
              "<div>\n",
              "<style scoped>\n",
              "    .dataframe tbody tr th:only-of-type {\n",
              "        vertical-align: middle;\n",
              "    }\n",
              "\n",
              "    .dataframe tbody tr th {\n",
              "        vertical-align: top;\n",
              "    }\n",
              "\n",
              "    .dataframe thead th {\n",
              "        text-align: right;\n",
              "    }\n",
              "</style>\n",
              "<table border=\"1\" class=\"dataframe\">\n",
              "  <thead>\n",
              "    <tr style=\"text-align: right;\">\n",
              "      <th></th>\n",
              "      <th>temperature</th>\n",
              "      <th>humidity</th>\n",
              "      <th>light</th>\n",
              "      <th>co2</th>\n",
              "      <th>humidity_ratio</th>\n",
              "      <th>occupancy</th>\n",
              "    </tr>\n",
              "  </thead>\n",
              "  <tbody>\n",
              "    <tr>\n",
              "      <th>0</th>\n",
              "      <td>23.7000</td>\n",
              "      <td>26.272</td>\n",
              "      <td>585.200000</td>\n",
              "      <td>749.200000</td>\n",
              "      <td>0.004764</td>\n",
              "      <td>1</td>\n",
              "    </tr>\n",
              "    <tr>\n",
              "      <th>1</th>\n",
              "      <td>23.7180</td>\n",
              "      <td>26.290</td>\n",
              "      <td>578.400000</td>\n",
              "      <td>760.400000</td>\n",
              "      <td>0.004773</td>\n",
              "      <td>1</td>\n",
              "    </tr>\n",
              "    <tr>\n",
              "      <th>2</th>\n",
              "      <td>23.7300</td>\n",
              "      <td>26.230</td>\n",
              "      <td>572.666667</td>\n",
              "      <td>769.666667</td>\n",
              "      <td>0.004765</td>\n",
              "      <td>1</td>\n",
              "    </tr>\n",
              "    <tr>\n",
              "      <th>3</th>\n",
              "      <td>23.7225</td>\n",
              "      <td>26.125</td>\n",
              "      <td>493.750000</td>\n",
              "      <td>774.750000</td>\n",
              "      <td>0.004744</td>\n",
              "      <td>1</td>\n",
              "    </tr>\n",
              "    <tr>\n",
              "      <th>4</th>\n",
              "      <td>23.7540</td>\n",
              "      <td>26.200</td>\n",
              "      <td>488.600000</td>\n",
              "      <td>779.000000</td>\n",
              "      <td>0.004767</td>\n",
              "      <td>1</td>\n",
              "    </tr>\n",
              "  </tbody>\n",
              "</table>\n",
              "</div>"
            ],
            "text/plain": [
              "   temperature  humidity       light         co2  humidity_ratio  occupancy\n",
              "0      23.7000    26.272  585.200000  749.200000        0.004764          1\n",
              "1      23.7180    26.290  578.400000  760.400000        0.004773          1\n",
              "2      23.7300    26.230  572.666667  769.666667        0.004765          1\n",
              "3      23.7225    26.125  493.750000  774.750000        0.004744          1\n",
              "4      23.7540    26.200  488.600000  779.000000        0.004767          1"
            ]
          },
          "metadata": {},
          "execution_count": 2
        }
      ]
    },
    {
      "cell_type": "code",
      "metadata": {
        "id": "-g_Fr1qfhUvu"
      },
      "source": [
        "X, y = df.iloc[:, :-1].values, df.iloc[:, -1].values\n",
        "\n",
        "X_train, X_test, y_train, y_test = train_test_split(X, y, \n",
        "                                                    test_size=0.25, \n",
        "                                                    stratify=y)\n",
        "\n",
        "scaler = StandardScaler().fit(X_train)\n",
        "X_train = scaler.transform(X_train)\n",
        "X_test = scaler.transform(X_test)"
      ],
      "execution_count": null,
      "outputs": []
    },
    {
      "cell_type": "markdown",
      "metadata": {
        "id": "_i-DtGaMckeJ"
      },
      "source": [
        "## 1 Качество работы алгоритмов до отбора признаков\n",
        "\n",
        "Протестируем алгоритмы классификации до отбора признаков, зафиксируем качество"
      ]
    },
    {
      "cell_type": "code",
      "metadata": {
        "id": "C9y_a3SAdIfx"
      },
      "source": [
        "def make_report(model_name, feature_selection, f1_score, df=None):\n",
        "    '''Make report of models error before/after feature selection'''\n",
        "    cols = ['model', 'feature_selection', 'f1_score']\n",
        "    data = [\n",
        "        [model_name, feature_selection, f1_score]\n",
        "    ]\n",
        "    local_df = pd.DataFrame(data, columns=cols)\n",
        "    return local_df if df is None else df.append(local_df, ignore_index=True)"
      ],
      "execution_count": null,
      "outputs": []
    },
    {
      "cell_type": "code",
      "metadata": {
        "id": "fiB3gDdgbBOP"
      },
      "source": [
        "def write_to_report(model_names, feature_selection, scores, report_df=None):\n",
        "    for model_name, score in zip(model_names, scores):\n",
        "        report_df = make_report(model_name, feature_selection, score, report_df)\n",
        "    return report_df"
      ],
      "execution_count": null,
      "outputs": []
    },
    {
      "cell_type": "code",
      "metadata": {
        "id": "era-btspraGl"
      },
      "source": [
        "def get_avarage_f1_score(clf, X, y):\n",
        "    skf = StratifiedKFold(n_splits=5)\n",
        "    scores = []\n",
        "    for train_index, test_index in skf.split(X, y):\n",
        "        scaler = StandardScaler().fit(X[train_index])\n",
        "\n",
        "        X_train = scaler.transform(X[train_index])\n",
        "        X_test = scaler.transform(X[test_index])\n",
        "\n",
        "        y_train, y_test = y[train_index], y[test_index]\n",
        "        \n",
        "        clf.fit(X_train, y_train)\n",
        "        y_pred = clf.predict(X_test)\n",
        "        \n",
        "        scores.append(f1_score(y_test, y_pred))\n",
        "    return np.mean(scores)"
      ],
      "execution_count": null,
      "outputs": []
    },
    {
      "cell_type": "markdown",
      "metadata": {
        "id": "1Iv6F6R_gYf-"
      },
      "source": [
        "Протестируем работу алгоритма логистической регрессии и дерева решений"
      ]
    },
    {
      "cell_type": "code",
      "metadata": {
        "colab": {
          "base_uri": "https://localhost:8080/",
          "height": 111
        },
        "id": "mCaaST35v9Ld",
        "outputId": "4f0fb5a6-8b71-4b6f-de31-a7ff3dbf3ea0"
      },
      "source": [
        "lg_clf = LogisticRegression(penalty='l1', solver='liblinear')\n",
        "logreg_f1_score = get_avarage_f1_score(lg_clf, X, y)\n",
        "\n",
        "dt_clf = DecisionTreeClassifier()\n",
        "dectree_f1_score = get_avarage_f1_score(dt_clf, X, y)\n",
        "\n",
        "report_df = write_to_report(model_names=('LogisticRegression', 'DecisionTreeClassifier'),\n",
        "                            feature_selection='No',\n",
        "                            scores=(logreg_f1_score, dectree_f1_score))\n",
        "report_df"
      ],
      "execution_count": null,
      "outputs": [
        {
          "output_type": "execute_result",
          "data": {
            "text/html": [
              "<div>\n",
              "<style scoped>\n",
              "    .dataframe tbody tr th:only-of-type {\n",
              "        vertical-align: middle;\n",
              "    }\n",
              "\n",
              "    .dataframe tbody tr th {\n",
              "        vertical-align: top;\n",
              "    }\n",
              "\n",
              "    .dataframe thead th {\n",
              "        text-align: right;\n",
              "    }\n",
              "</style>\n",
              "<table border=\"1\" class=\"dataframe\">\n",
              "  <thead>\n",
              "    <tr style=\"text-align: right;\">\n",
              "      <th></th>\n",
              "      <th>model</th>\n",
              "      <th>feature_selection</th>\n",
              "      <th>f1_score</th>\n",
              "    </tr>\n",
              "  </thead>\n",
              "  <tbody>\n",
              "    <tr>\n",
              "      <th>0</th>\n",
              "      <td>LogisticRegression</td>\n",
              "      <td>No</td>\n",
              "      <td>0.976511</td>\n",
              "    </tr>\n",
              "    <tr>\n",
              "      <th>1</th>\n",
              "      <td>DecisionTreeClassifier</td>\n",
              "      <td>No</td>\n",
              "      <td>0.800973</td>\n",
              "    </tr>\n",
              "  </tbody>\n",
              "</table>\n",
              "</div>"
            ],
            "text/plain": [
              "                    model feature_selection  f1_score\n",
              "0      LogisticRegression                No  0.976511\n",
              "1  DecisionTreeClassifier                No  0.800973"
            ]
          },
          "metadata": {},
          "execution_count": 12
        }
      ]
    },
    {
      "cell_type": "markdown",
      "metadata": {
        "id": "9H3OqHKtWMoG"
      },
      "source": [
        "## 2 Одномерный отбор признаков"
      ]
    },
    {
      "cell_type": "code",
      "metadata": {
        "id": "6q08hFjwVwGH"
      },
      "source": [
        "# params = {\n",
        "#     'score_func': (chi2, f_classif, f_regression),\n",
        "#     'k': np.arange(3, len(df.columns))\n",
        "# }\n",
        "# selector_params = itertools.product(*[v for _, v in params.items()])\n",
        "# print(params.keys().index())"
      ],
      "execution_count": null,
      "outputs": []
    },
    {
      "cell_type": "code",
      "metadata": {
        "id": "nGDPMob7RXLK"
      },
      "source": [
        "# def select_features(selector, params, X, y, return_scores=True):\n",
        "#     selector_params = itertools.product(*[v for _, v in params.items()])\n",
        "#     best_avg_lg_score, best_avg_dt_score = -1, -1\n",
        "\n",
        "#     for params in selector_params:  \n",
        "#         k_best = SelectKBest(score_func=score_func, k=k)\n",
        "#         fitted_k_best = k_best.fit(X, y)\n",
        "#         features = fitted_k_best.transform(X)\n",
        "        \n",
        "#         lr_clf = LogisticRegression(penalty='l1', solver='liblinear')\n",
        "#         score = get_avarage_f1_score(lr_clf, features, y)\n",
        "#         best_avg_lg_score = score if score > best_avg_lg_score else best_avg_lg_score\n",
        "        \n",
        "#         dt_clf = DecisionTreeClassifier()\n",
        "#         score = get_avarage_f1_score(dt_clf, features, y)\n",
        "#         best_avg_dt_score = score if score > best_avg_dt_score else best_avg_dt_score\n",
        "    \n",
        "#     return features, best_avg_lg_score, best_avg_dt_score"
      ],
      "execution_count": null,
      "outputs": []
    },
    {
      "cell_type": "code",
      "metadata": {
        "id": "e0573w_20SIL"
      },
      "source": [
        "np.set_printoptions(precision=3)"
      ],
      "execution_count": null,
      "outputs": []
    },
    {
      "cell_type": "code",
      "metadata": {
        "id": "HDlqNbv3-Oj0"
      },
      "source": [
        "score_funcs = (chi2, f_classif, f_regression)\n",
        "ks = np.arange(3, len(df.columns))\n",
        "params = itertools.product(score_funcs, ks)\n",
        "best_avg_lg_score, best_avg_dt_score = -1, -1"
      ],
      "execution_count": null,
      "outputs": []
    },
    {
      "cell_type": "code",
      "metadata": {
        "id": "TX4LMC6kV4zk"
      },
      "source": [
        "for score_func, k in params:\n",
        "    k_best = SelectKBest(score_func=score_func, k=k)\n",
        "    fitted_k_best = k_best.fit(X, y)\n",
        "    features = fitted_k_best.transform(X)\n",
        "    \n",
        "    lr_clf = LogisticRegression(penalty='l1', solver='liblinear')\n",
        "    score = get_avarage_f1_score(lr_clf, features, y)\n",
        "    best_avg_lg_score = score if score > best_avg_lg_score else best_avg_lg_score\n",
        "\n",
        "    dt_clf = DecisionTreeClassifier()\n",
        "    score = get_avarage_f1_score(dt_clf, features, y)\n",
        "    best_avg_dt_score = score if score > best_avg_dt_score else best_avg_dt_score"
      ],
      "execution_count": null,
      "outputs": []
    },
    {
      "cell_type": "code",
      "metadata": {
        "colab": {
          "base_uri": "https://localhost:8080/",
          "height": 173
        },
        "id": "n9impqBr-TZV",
        "outputId": "d0037e89-d665-4c1b-f5af-6926ad9ce1c5"
      },
      "source": [
        "report_df = write_to_report(model_names=('LogisticRegression', 'DecisionTreeClassifier'),\n",
        "                            feature_selection='Yes/UFS',\n",
        "                            scores=(best_avg_lg_score, best_avg_dt_score),\n",
        "                            report_df=report_df)\n",
        "report_df"
      ],
      "execution_count": null,
      "outputs": [
        {
          "output_type": "execute_result",
          "data": {
            "text/html": [
              "<div>\n",
              "<style scoped>\n",
              "    .dataframe tbody tr th:only-of-type {\n",
              "        vertical-align: middle;\n",
              "    }\n",
              "\n",
              "    .dataframe tbody tr th {\n",
              "        vertical-align: top;\n",
              "    }\n",
              "\n",
              "    .dataframe thead th {\n",
              "        text-align: right;\n",
              "    }\n",
              "</style>\n",
              "<table border=\"1\" class=\"dataframe\">\n",
              "  <thead>\n",
              "    <tr style=\"text-align: right;\">\n",
              "      <th></th>\n",
              "      <th>model</th>\n",
              "      <th>feature_selection</th>\n",
              "      <th>f1_score</th>\n",
              "    </tr>\n",
              "  </thead>\n",
              "  <tbody>\n",
              "    <tr>\n",
              "      <th>0</th>\n",
              "      <td>LogisticRegression</td>\n",
              "      <td>No</td>\n",
              "      <td>0.976511</td>\n",
              "    </tr>\n",
              "    <tr>\n",
              "      <th>1</th>\n",
              "      <td>DecisionTreeClassifier</td>\n",
              "      <td>No</td>\n",
              "      <td>0.800973</td>\n",
              "    </tr>\n",
              "    <tr>\n",
              "      <th>2</th>\n",
              "      <td>LogisticRegression</td>\n",
              "      <td>Yes/UFS</td>\n",
              "      <td>0.976834</td>\n",
              "    </tr>\n",
              "    <tr>\n",
              "      <th>3</th>\n",
              "      <td>DecisionTreeClassifier</td>\n",
              "      <td>Yes/UFS</td>\n",
              "      <td>0.856621</td>\n",
              "    </tr>\n",
              "  </tbody>\n",
              "</table>\n",
              "</div>"
            ],
            "text/plain": [
              "                    model feature_selection  f1_score\n",
              "0      LogisticRegression                No  0.976511\n",
              "1  DecisionTreeClassifier                No  0.800973\n",
              "2      LogisticRegression           Yes/UFS  0.976834\n",
              "3  DecisionTreeClassifier           Yes/UFS  0.856621"
            ]
          },
          "metadata": {},
          "execution_count": 13
        }
      ]
    },
    {
      "cell_type": "markdown",
      "metadata": {
        "id": "0A6kTqAW-YTT"
      },
      "source": [
        "Видим, что качество работы моделей улучшилось"
      ]
    },
    {
      "cell_type": "markdown",
      "metadata": {
        "id": "EqcWiwxJ-hQM"
      },
      "source": [
        "## 3 Рекурсивное исключение признаков"
      ]
    },
    {
      "cell_type": "code",
      "metadata": {
        "id": "lAkwMjZI-lh4"
      },
      "source": [
        "nums = np.arange(3, len(df.columns))\n",
        "best_avg_lg_score, best_avg_dt_score = -1, -1"
      ],
      "execution_count": null,
      "outputs": []
    },
    {
      "cell_type": "code",
      "metadata": {
        "id": "kF04TaT7XS69"
      },
      "source": [
        "for n in nums:\n",
        "    lr_clf = LogisticRegression(penalty='l1', solver='liblinear')\n",
        "    rfe = RFE(lr_clf, n)\n",
        "    fitted_rfe = rfe.fit(X, y)\n",
        "    features = fitted_rfe.transform(X)\n",
        "\n",
        "    score = get_avarage_f1_score(lr_clf, features, y)\n",
        "    best_avg_lg_score = score if score > best_avg_lg_score else best_avg_lg_score\n",
        "\n",
        "    dt_clf = DecisionTreeClassifier()\n",
        "    rfe = RFE(dt_clf, n)\n",
        "    fitted_rfe = rfe.fit(X, y)\n",
        "    features = fitted_rfe.transform(X)\n",
        "\n",
        "    score = get_avarage_f1_score(dt_clf, features, y)\n",
        "    best_avg_dt_score = score if score > best_avg_dt_score else best_avg_dt_score"
      ],
      "execution_count": null,
      "outputs": []
    },
    {
      "cell_type": "code",
      "metadata": {
        "colab": {
          "base_uri": "https://localhost:8080/",
          "height": 235
        },
        "id": "YUxSmS_FaWYH",
        "outputId": "1625ecc7-f6ce-48b2-e57e-a1d1ce6080fb"
      },
      "source": [
        "report_df = write_to_report(model_names=('LogisticRegression', 'DecisionTreeClassifier'),\n",
        "                            feature_selection='Yes/RFE',\n",
        "                            scores=(best_avg_lg_score, best_avg_dt_score),\n",
        "                            report_df=report_df)\n",
        "report_df"
      ],
      "execution_count": null,
      "outputs": [
        {
          "output_type": "execute_result",
          "data": {
            "text/html": [
              "<div>\n",
              "<style scoped>\n",
              "    .dataframe tbody tr th:only-of-type {\n",
              "        vertical-align: middle;\n",
              "    }\n",
              "\n",
              "    .dataframe tbody tr th {\n",
              "        vertical-align: top;\n",
              "    }\n",
              "\n",
              "    .dataframe thead th {\n",
              "        text-align: right;\n",
              "    }\n",
              "</style>\n",
              "<table border=\"1\" class=\"dataframe\">\n",
              "  <thead>\n",
              "    <tr style=\"text-align: right;\">\n",
              "      <th></th>\n",
              "      <th>model</th>\n",
              "      <th>feature_selection</th>\n",
              "      <th>f1_score</th>\n",
              "    </tr>\n",
              "  </thead>\n",
              "  <tbody>\n",
              "    <tr>\n",
              "      <th>0</th>\n",
              "      <td>LogisticRegression</td>\n",
              "      <td>No</td>\n",
              "      <td>0.976511</td>\n",
              "    </tr>\n",
              "    <tr>\n",
              "      <th>1</th>\n",
              "      <td>DecisionTreeClassifier</td>\n",
              "      <td>No</td>\n",
              "      <td>0.800973</td>\n",
              "    </tr>\n",
              "    <tr>\n",
              "      <th>2</th>\n",
              "      <td>LogisticRegression</td>\n",
              "      <td>Yes/UFS</td>\n",
              "      <td>0.976834</td>\n",
              "    </tr>\n",
              "    <tr>\n",
              "      <th>3</th>\n",
              "      <td>DecisionTreeClassifier</td>\n",
              "      <td>Yes/UFS</td>\n",
              "      <td>0.856621</td>\n",
              "    </tr>\n",
              "    <tr>\n",
              "      <th>4</th>\n",
              "      <td>LogisticRegression</td>\n",
              "      <td>Yes/RFE</td>\n",
              "      <td>0.976818</td>\n",
              "    </tr>\n",
              "    <tr>\n",
              "      <th>5</th>\n",
              "      <td>DecisionTreeClassifier</td>\n",
              "      <td>Yes/RFE</td>\n",
              "      <td>0.853561</td>\n",
              "    </tr>\n",
              "  </tbody>\n",
              "</table>\n",
              "</div>"
            ],
            "text/plain": [
              "                    model feature_selection  f1_score\n",
              "0      LogisticRegression                No  0.976511\n",
              "1  DecisionTreeClassifier                No  0.800973\n",
              "2      LogisticRegression           Yes/UFS  0.976834\n",
              "3  DecisionTreeClassifier           Yes/UFS  0.856621\n",
              "4      LogisticRegression           Yes/RFE  0.976818\n",
              "5  DecisionTreeClassifier           Yes/RFE  0.853561"
            ]
          },
          "metadata": {},
          "execution_count": 16
        }
      ]
    },
    {
      "cell_type": "markdown",
      "metadata": {
        "id": "2YIvJeQNajUA"
      },
      "source": [
        "С RFE качество улучшилось примерно как в UFS"
      ]
    },
    {
      "cell_type": "markdown",
      "metadata": {
        "id": "T7KlxIvAaoh4"
      },
      "source": [
        "## 4 Метод главных компонент"
      ]
    },
    {
      "cell_type": "code",
      "metadata": {
        "id": "y8swmfPGeeB_"
      },
      "source": [
        "nums = (2, 3, 4)\n",
        "best_avg_lg_score, best_avg_dt_score = -1, -1"
      ],
      "execution_count": null,
      "outputs": []
    },
    {
      "cell_type": "code",
      "metadata": {
        "id": "UmYqr4uxa8Sc"
      },
      "source": [
        "for n in nums:\n",
        "    pca = PCA(n)\n",
        "    fitted_pca = pca.fit(X, y)\n",
        "    features = fitted_pca.transform(X)\n",
        "    \n",
        "    lr_clf = LogisticRegression(penalty='l1', solver='liblinear')\n",
        "    score = get_avarage_f1_score(lr_clf, features, y)\n",
        "    best_avg_lg_score = score if score > best_avg_lg_score else best_avg_lg_score\n",
        "\n",
        "    dt_clf = DecisionTreeClassifier()\n",
        "    score = get_avarage_f1_score(dt_clf, features, y)\n",
        "    best_avg_dt_score = score if score > best_avg_dt_score else best_avg_dt_score"
      ],
      "execution_count": null,
      "outputs": []
    },
    {
      "cell_type": "code",
      "metadata": {
        "colab": {
          "base_uri": "https://localhost:8080/",
          "height": 297
        },
        "id": "4cZ5701dePB_",
        "outputId": "b7f93588-b8af-498a-99d8-22b6b8d65bbc"
      },
      "source": [
        "report_df = write_to_report(model_names=('LogisticRegression', 'DecisionTreeClassifier'),\n",
        "                            feature_selection='Yes/PCA',\n",
        "                            scores=(best_avg_lg_score, best_avg_dt_score),\n",
        "                            report_df=report_df)\n",
        "report_df"
      ],
      "execution_count": null,
      "outputs": [
        {
          "output_type": "execute_result",
          "data": {
            "text/html": [
              "<div>\n",
              "<style scoped>\n",
              "    .dataframe tbody tr th:only-of-type {\n",
              "        vertical-align: middle;\n",
              "    }\n",
              "\n",
              "    .dataframe tbody tr th {\n",
              "        vertical-align: top;\n",
              "    }\n",
              "\n",
              "    .dataframe thead th {\n",
              "        text-align: right;\n",
              "    }\n",
              "</style>\n",
              "<table border=\"1\" class=\"dataframe\">\n",
              "  <thead>\n",
              "    <tr style=\"text-align: right;\">\n",
              "      <th></th>\n",
              "      <th>model</th>\n",
              "      <th>feature_selection</th>\n",
              "      <th>f1_score</th>\n",
              "    </tr>\n",
              "  </thead>\n",
              "  <tbody>\n",
              "    <tr>\n",
              "      <th>0</th>\n",
              "      <td>LogisticRegression</td>\n",
              "      <td>No</td>\n",
              "      <td>0.976511</td>\n",
              "    </tr>\n",
              "    <tr>\n",
              "      <th>1</th>\n",
              "      <td>DecisionTreeClassifier</td>\n",
              "      <td>No</td>\n",
              "      <td>0.800973</td>\n",
              "    </tr>\n",
              "    <tr>\n",
              "      <th>2</th>\n",
              "      <td>LogisticRegression</td>\n",
              "      <td>Yes/UFS</td>\n",
              "      <td>0.976834</td>\n",
              "    </tr>\n",
              "    <tr>\n",
              "      <th>3</th>\n",
              "      <td>DecisionTreeClassifier</td>\n",
              "      <td>Yes/UFS</td>\n",
              "      <td>0.856621</td>\n",
              "    </tr>\n",
              "    <tr>\n",
              "      <th>4</th>\n",
              "      <td>LogisticRegression</td>\n",
              "      <td>Yes/RFE</td>\n",
              "      <td>0.976818</td>\n",
              "    </tr>\n",
              "    <tr>\n",
              "      <th>5</th>\n",
              "      <td>DecisionTreeClassifier</td>\n",
              "      <td>Yes/RFE</td>\n",
              "      <td>0.853561</td>\n",
              "    </tr>\n",
              "    <tr>\n",
              "      <th>6</th>\n",
              "      <td>LogisticRegression</td>\n",
              "      <td>Yes/PCA</td>\n",
              "      <td>0.977262</td>\n",
              "    </tr>\n",
              "    <tr>\n",
              "      <th>7</th>\n",
              "      <td>DecisionTreeClassifier</td>\n",
              "      <td>Yes/PCA</td>\n",
              "      <td>0.890993</td>\n",
              "    </tr>\n",
              "  </tbody>\n",
              "</table>\n",
              "</div>"
            ],
            "text/plain": [
              "                    model feature_selection  f1_score\n",
              "0      LogisticRegression                No  0.976511\n",
              "1  DecisionTreeClassifier                No  0.800973\n",
              "2      LogisticRegression           Yes/UFS  0.976834\n",
              "3  DecisionTreeClassifier           Yes/UFS  0.856621\n",
              "4      LogisticRegression           Yes/RFE  0.976818\n",
              "5  DecisionTreeClassifier           Yes/RFE  0.853561\n",
              "6      LogisticRegression           Yes/PCA  0.977262\n",
              "7  DecisionTreeClassifier           Yes/PCA  0.890993"
            ]
          },
          "metadata": {},
          "execution_count": 21
        }
      ]
    },
    {
      "cell_type": "markdown",
      "metadata": {
        "id": "aTuniwh_hyOT"
      },
      "source": [
        "С использованием PCA качество стало ещё больше, чем с RFE и UFS"
      ]
    },
    {
      "cell_type": "markdown",
      "metadata": {
        "id": "nTwx63zgd-4h"
      },
      "source": [
        "## 5 Отбор на основе важности признаков"
      ]
    },
    {
      "cell_type": "code",
      "metadata": {
        "id": "pu2b-wfJeefW"
      },
      "source": [
        "n_highest_features = np.arange(2, len(df.columns))\n",
        "best_avg_lg_score, best_avg_dt_score = -1, -1"
      ],
      "execution_count": null,
      "outputs": []
    },
    {
      "cell_type": "code",
      "metadata": {
        "id": "860xGWuDeEBX"
      },
      "source": [
        "etc = ExtraTreesClassifier()\n",
        "etc.fit(X, y)\n",
        "sorted_indices = np.argsort(etc.feature_importances_)\n",
        "for n in n_highest_features:\n",
        "    features = X[:, sorted_indices[:n]]\n",
        "    \n",
        "    lr_clf = LogisticRegression(penalty='l1', solver='liblinear')\n",
        "    score = get_avarage_f1_score(lr_clf, features, y)\n",
        "    best_avg_lg_score = score if score > best_avg_lg_score else best_avg_lg_score\n",
        "\n",
        "    dt_clf = DecisionTreeClassifier()\n",
        "    score = get_avarage_f1_score(dt_clf, features, y)\n",
        "    best_avg_dt_score = score if score > best_avg_dt_score else best_avg_dt_score"
      ],
      "execution_count": null,
      "outputs": []
    },
    {
      "cell_type": "code",
      "metadata": {
        "colab": {
          "base_uri": "https://localhost:8080/",
          "height": 359
        },
        "id": "cAe-TrEdeQvU",
        "outputId": "54780733-1be5-48ab-d4a1-d36b34d1a14f"
      },
      "source": [
        "report_df = write_to_report(model_names=('LogisticRegression', 'DecisionTreeClassifier'),\n",
        "                            feature_selection='Yes/ETC',\n",
        "                            scores=(best_avg_lg_score, best_avg_dt_score),\n",
        "                            report_df=report_df)\n",
        "report_df"
      ],
      "execution_count": null,
      "outputs": [
        {
          "output_type": "execute_result",
          "data": {
            "text/html": [
              "<div>\n",
              "<style scoped>\n",
              "    .dataframe tbody tr th:only-of-type {\n",
              "        vertical-align: middle;\n",
              "    }\n",
              "\n",
              "    .dataframe tbody tr th {\n",
              "        vertical-align: top;\n",
              "    }\n",
              "\n",
              "    .dataframe thead th {\n",
              "        text-align: right;\n",
              "    }\n",
              "</style>\n",
              "<table border=\"1\" class=\"dataframe\">\n",
              "  <thead>\n",
              "    <tr style=\"text-align: right;\">\n",
              "      <th></th>\n",
              "      <th>model</th>\n",
              "      <th>feature_selection</th>\n",
              "      <th>f1_score</th>\n",
              "    </tr>\n",
              "  </thead>\n",
              "  <tbody>\n",
              "    <tr>\n",
              "      <th>0</th>\n",
              "      <td>LogisticRegression</td>\n",
              "      <td>No</td>\n",
              "      <td>0.976511</td>\n",
              "    </tr>\n",
              "    <tr>\n",
              "      <th>1</th>\n",
              "      <td>DecisionTreeClassifier</td>\n",
              "      <td>No</td>\n",
              "      <td>0.800973</td>\n",
              "    </tr>\n",
              "    <tr>\n",
              "      <th>2</th>\n",
              "      <td>LogisticRegression</td>\n",
              "      <td>Yes/UFS</td>\n",
              "      <td>0.976834</td>\n",
              "    </tr>\n",
              "    <tr>\n",
              "      <th>3</th>\n",
              "      <td>DecisionTreeClassifier</td>\n",
              "      <td>Yes/UFS</td>\n",
              "      <td>0.856621</td>\n",
              "    </tr>\n",
              "    <tr>\n",
              "      <th>4</th>\n",
              "      <td>LogisticRegression</td>\n",
              "      <td>Yes/RFE</td>\n",
              "      <td>0.976818</td>\n",
              "    </tr>\n",
              "    <tr>\n",
              "      <th>5</th>\n",
              "      <td>DecisionTreeClassifier</td>\n",
              "      <td>Yes/RFE</td>\n",
              "      <td>0.853561</td>\n",
              "    </tr>\n",
              "    <tr>\n",
              "      <th>6</th>\n",
              "      <td>LogisticRegression</td>\n",
              "      <td>Yes/PCA</td>\n",
              "      <td>0.977262</td>\n",
              "    </tr>\n",
              "    <tr>\n",
              "      <th>7</th>\n",
              "      <td>DecisionTreeClassifier</td>\n",
              "      <td>Yes/PCA</td>\n",
              "      <td>0.890993</td>\n",
              "    </tr>\n",
              "    <tr>\n",
              "      <th>8</th>\n",
              "      <td>LogisticRegression</td>\n",
              "      <td>Yes/ETC</td>\n",
              "      <td>0.976511</td>\n",
              "    </tr>\n",
              "    <tr>\n",
              "      <th>9</th>\n",
              "      <td>DecisionTreeClassifier</td>\n",
              "      <td>Yes/ETC</td>\n",
              "      <td>0.809934</td>\n",
              "    </tr>\n",
              "  </tbody>\n",
              "</table>\n",
              "</div>"
            ],
            "text/plain": [
              "                    model feature_selection  f1_score\n",
              "0      LogisticRegression                No  0.976511\n",
              "1  DecisionTreeClassifier                No  0.800973\n",
              "2      LogisticRegression           Yes/UFS  0.976834\n",
              "3  DecisionTreeClassifier           Yes/UFS  0.856621\n",
              "4      LogisticRegression           Yes/RFE  0.976818\n",
              "5  DecisionTreeClassifier           Yes/RFE  0.853561\n",
              "6      LogisticRegression           Yes/PCA  0.977262\n",
              "7  DecisionTreeClassifier           Yes/PCA  0.890993\n",
              "8      LogisticRegression           Yes/ETC  0.976511\n",
              "9  DecisionTreeClassifier           Yes/ETC  0.809934"
            ]
          },
          "metadata": {},
          "execution_count": 31
        }
      ]
    },
    {
      "cell_type": "markdown",
      "metadata": {
        "id": "syVTi2uXmNfU"
      },
      "source": [
        "С использованием ETC качество не изменилось"
      ]
    },
    {
      "cell_type": "markdown",
      "metadata": {
        "id": "cNQoiUStmVjS"
      },
      "source": [
        "## 6 Вывод"
      ]
    },
    {
      "cell_type": "markdown",
      "metadata": {
        "id": "ki8aKr3DmZT-"
      },
      "source": [
        "После проведённых экспериментов получилось, что лучшую прибавку к качеству дал PCA, а худшую – отбор на основе важности признаков с использованием ExtraTreesClassifier"
      ]
    },
    {
      "cell_type": "markdown",
      "metadata": {
        "id": "qs7_1AjCnBxN"
      },
      "source": [
        "## TODO"
      ]
    },
    {
      "cell_type": "markdown",
      "metadata": {
        "id": "hf18X-RxnEMI"
      },
      "source": [
        "* сделать вывод наилучших признаков, выбранных каждым методом\n",
        "\n",
        "* добавить столбец с лучшими выбранными признаками в report_df"
      ]
    }
  ]
}