{
  "cells":[
    {
      "cell_type":"markdown",
      "source":[
        "[Публичная ссылка на ноутбук](https:\/\/colab.research.google.com\/drive\/1Dhg5Fkr_10OgwtSNq1FqHu_oNcJzhQVB?usp=sharing)"
      ],
      "attachments":{
        
      },
      "metadata":{
        
      }
    },
    {
      "cell_type":"markdown",
      "source":[
        "# Отбор признаков\n",
        "\n",
        "В прошлом семестре приходилось руками отбирать признаки через статистические связи (матрица корреляций), уникальность значений каждого признака и тд.\n",
        "\n",
        "Для этой задачи в sklearn существуют автоматизированные методы"
      ],
      "attachments":{
        
      },
      "metadata":{
        
      }
    },
    {
      "cell_type":"code",
      "source":[
        "import itertools\n",
        "\n",
        "import numpy as np\n",
        "import pandas as pd\n",
        "\n",
        "from sklearn.model_selection import train_test_split, StratifiedKFold\n",
        "from sklearn.preprocessing import StandardScaler\n",
        "\n",
        "from sklearn.linear_model import LogisticRegression\n",
        "from sklearn.tree import DecisionTreeClassifier\n",
        "from sklearn.metrics import f1_score\n",
        "\n",
        "from sklearn.feature_selection import (SelectKBest, \n",
        "                                       chi2, f_classif, f_regression,\n",
        "                                       RFE)\n",
        "from sklearn.decomposition import PCA\n",
        "from sklearn.ensemble import ExtraTreesClassifier"
      ],
      "execution_count":8,
      "outputs":[
        
      ],
      "metadata":{
        
      }
    },
    {
      "cell_type":"markdown",
      "source":[
        "## 0 Подготовка данных\n",
        "\n",
        "Загрузим данные, подготовим их к работе"
      ],
      "attachments":{
        
      },
      "metadata":{
        
      }
    },
    {
      "cell_type":"code",
      "source":[
        "url = 'https:\/\/raw.githubusercontent.com\/otverskoj\/First-steps-in-Data-Analysis\/main\/datasets\/classification\/occupancy_detection_preprocessed.csv'\n",
        "names = ['date', 'temperature', 'humidity', 'light', 'co2', 'humidity_ratio', 'occupancy']\n",
        "df = pd.read_csv(url, names=names, skiprows=1).reset_index(drop=True).drop(['date'], axis=1)\n",
        "df.head()"
      ],
      "execution_count":9,
      "outputs":[
        {
          "data":{
            "text\/html":[
              "<div>\n",
              "<style scoped>\n",
              "    .dataframe tbody tr th:only-of-type {\n",
              "        vertical-align: middle;\n",
              "    }\n",
              "\n",
              "    .dataframe tbody tr th {\n",
              "        vertical-align: top;\n",
              "    }\n",
              "\n",
              "    .dataframe thead th {\n",
              "        text-align: right;\n",
              "    }\n",
              "<\/style>\n",
              "<table border=\"1\" class=\"dataframe\">\n",
              "  <thead>\n",
              "    <tr style=\"text-align: right;\">\n",
              "      <th><\/th>\n",
              "      <th>temperature<\/th>\n",
              "      <th>humidity<\/th>\n",
              "      <th>light<\/th>\n",
              "      <th>co2<\/th>\n",
              "      <th>humidity_ratio<\/th>\n",
              "      <th>occupancy<\/th>\n",
              "    <\/tr>\n",
              "  <\/thead>\n",
              "  <tbody>\n",
              "    <tr>\n",
              "      <th>0<\/th>\n",
              "      <td>23.7000<\/td>\n",
              "      <td>26.272<\/td>\n",
              "      <td>585.200000<\/td>\n",
              "      <td>749.200000<\/td>\n",
              "      <td>0.004764<\/td>\n",
              "      <td>1<\/td>\n",
              "    <\/tr>\n",
              "    <tr>\n",
              "      <th>1<\/th>\n",
              "      <td>23.7180<\/td>\n",
              "      <td>26.290<\/td>\n",
              "      <td>578.400000<\/td>\n",
              "      <td>760.400000<\/td>\n",
              "      <td>0.004773<\/td>\n",
              "      <td>1<\/td>\n",
              "    <\/tr>\n",
              "    <tr>\n",
              "      <th>2<\/th>\n",
              "      <td>23.7300<\/td>\n",
              "      <td>26.230<\/td>\n",
              "      <td>572.666667<\/td>\n",
              "      <td>769.666667<\/td>\n",
              "      <td>0.004765<\/td>\n",
              "      <td>1<\/td>\n",
              "    <\/tr>\n",
              "    <tr>\n",
              "      <th>3<\/th>\n",
              "      <td>23.7225<\/td>\n",
              "      <td>26.125<\/td>\n",
              "      <td>493.750000<\/td>\n",
              "      <td>774.750000<\/td>\n",
              "      <td>0.004744<\/td>\n",
              "      <td>1<\/td>\n",
              "    <\/tr>\n",
              "    <tr>\n",
              "      <th>4<\/th>\n",
              "      <td>23.7540<\/td>\n",
              "      <td>26.200<\/td>\n",
              "      <td>488.600000<\/td>\n",
              "      <td>779.000000<\/td>\n",
              "      <td>0.004767<\/td>\n",
              "      <td>1<\/td>\n",
              "    <\/tr>\n",
              "  <\/tbody>\n",
              "<\/table>\n",
              "<\/div>"
            ]
          },
          "metadata":{
            
          },
          "output_type":"display_data"
        }
      ],
      "metadata":{
        
      }
    },
    {
      "cell_type":"code",
      "source":[
        "X, y = df.iloc[:, :-1].values, df.iloc[:, -1].values\n",
        "\n",
        "X_train, X_test, y_train, y_test = train_test_split(X, y, \n",
        "                                                    test_size=0.25, \n",
        "                                                    stratify=y)\n",
        "\n",
        "scaler = StandardScaler().fit(X_train)\n",
        "X_train = scaler.transform(X_train)\n",
        "X_test = scaler.transform(X_test)"
      ],
      "execution_count":10,
      "outputs":[
        
      ],
      "metadata":{
        
      }
    },
    {
      "cell_type":"markdown",
      "source":[
        "## 1 Качество работы алгоритмов до отбора признаков\n",
        "\n",
        "Протестируем алгоритмы классификации до отбора признаков, зафиксируем качество"
      ],
      "attachments":{
        
      },
      "metadata":{
        
      }
    },
    {
      "cell_type":"code",
      "source":[
        "def make_report(model_name, feature_selection, f1_score, df=None):\n",
        "    '''Make report of models error before\/after feature selection'''\n",
        "    cols = ['model', 'feature_selection', 'f1_score']\n",
        "    data = [\n",
        "        [model_name, feature_selection, f1_score]\n",
        "    ]\n",
        "    local_df = pd.DataFrame(data, columns=cols)\n",
        "    return local_df if df is None else df.append(local_df, ignore_index=True)"
      ],
      "execution_count":11,
      "outputs":[
        
      ],
      "metadata":{
        
      }
    },
    {
      "cell_type":"code",
      "source":[
        "def write_to_report(model_names, feature_selection, scores, report_df=None):\n",
        "    for model_name, score in zip(model_names, scores):\n",
        "        report_df = make_report(model_name, feature_selection, score, report_df)\n",
        "    return report_df"
      ],
      "execution_count":12,
      "outputs":[
        
      ],
      "metadata":{
        
      }
    },
    {
      "cell_type":"code",
      "source":[
        "def get_avarage_f1_score(clf, X, y):\n",
        "    skf = StratifiedKFold(n_splits=5)\n",
        "    scores = []\n",
        "    for train_index, test_index in skf.split(X, y):\n",
        "        scaler = StandardScaler().fit(X[train_index])\n",
        "\n",
        "        X_train = scaler.transform(X[train_index])\n",
        "        X_test = scaler.transform(X[test_index])\n",
        "\n",
        "        y_train, y_test = y[train_index], y[test_index]\n",
        "        \n",
        "        clf.fit(X_train, y_train)\n",
        "        y_pred = clf.predict(X_test)\n",
        "        \n",
        "        scores.append(f1_score(y_test, y_pred))\n",
        "    return np.mean(scores)"
      ],
      "execution_count":13,
      "outputs":[
        
      ],
      "metadata":{
        
      }
    },
    {
      "cell_type":"markdown",
      "source":[
        "Протестируем работу алгоритма логистической регрессии и дерева решений"
      ],
      "attachments":{
        
      },
      "metadata":{
        
      }
    },
    {
      "cell_type":"code",
      "source":[
        "lg_clf = LogisticRegression(penalty='l1', solver='liblinear')\n",
        "logreg_f1_score = get_avarage_f1_score(lg_clf, X, y)\n",
        "\n",
        "dt_clf = DecisionTreeClassifier()\n",
        "dectree_f1_score = get_avarage_f1_score(dt_clf, X, y)\n",
        "\n",
        "report_df = write_to_report(model_names=('LogisticRegression', 'DecisionTreeClassifier'),\n",
        "                            feature_selection='No',\n",
        "                            scores=(logreg_f1_score, dectree_f1_score))\n",
        "report_df"
      ],
      "execution_count":14,
      "outputs":[
        {
          "data":{
            "text\/html":[
              "<div>\n",
              "<style scoped>\n",
              "    .dataframe tbody tr th:only-of-type {\n",
              "        vertical-align: middle;\n",
              "    }\n",
              "\n",
              "    .dataframe tbody tr th {\n",
              "        vertical-align: top;\n",
              "    }\n",
              "\n",
              "    .dataframe thead th {\n",
              "        text-align: right;\n",
              "    }\n",
              "<\/style>\n",
              "<table border=\"1\" class=\"dataframe\">\n",
              "  <thead>\n",
              "    <tr style=\"text-align: right;\">\n",
              "      <th><\/th>\n",
              "      <th>model<\/th>\n",
              "      <th>feature_selection<\/th>\n",
              "      <th>f1_score<\/th>\n",
              "    <\/tr>\n",
              "  <\/thead>\n",
              "  <tbody>\n",
              "    <tr>\n",
              "      <th>0<\/th>\n",
              "      <td>LogisticRegression<\/td>\n",
              "      <td>No<\/td>\n",
              "      <td>0.976511<\/td>\n",
              "    <\/tr>\n",
              "    <tr>\n",
              "      <th>1<\/th>\n",
              "      <td>DecisionTreeClassifier<\/td>\n",
              "      <td>No<\/td>\n",
              "      <td>0.803453<\/td>\n",
              "    <\/tr>\n",
              "  <\/tbody>\n",
              "<\/table>\n",
              "<\/div>"
            ]
          },
          "metadata":{
            
          },
          "output_type":"display_data"
        }
      ],
      "metadata":{
        
      }
    },
    {
      "cell_type":"markdown",
      "source":[
        "## 2 Одномерный отбор признаков"
      ],
      "attachments":{
        
      },
      "metadata":{
        
      }
    },
    {
      "cell_type":"code",
      "source":[
        "np.set_printoptions(precision=3)"
      ],
      "execution_count":15,
      "outputs":[
        
      ],
      "metadata":{
        
      }
    },
    {
      "cell_type":"code",
      "source":[
        "score_funcs = (chi2, f_classif, f_regression)\n",
        "ks = np.arange(3, len(df.columns))\n",
        "params = itertools.product(score_funcs, ks)\n",
        "best_avg_lg_score, best_avg_dt_score = -1, -1"
      ],
      "execution_count":16,
      "outputs":[
        
      ],
      "metadata":{
        
      }
    },
    {
      "cell_type":"code",
      "source":[
        "for score_func, k in params:\n",
        "    k_best = SelectKBest(score_func=score_func, k=k)\n",
        "    fitted_k_best = k_best.fit(X, y)\n",
        "    features = fitted_k_best.transform(X)\n",
        "    \n",
        "    lr_clf = LogisticRegression(penalty='l1', solver='liblinear')\n",
        "    score = get_avarage_f1_score(lr_clf, features, y)\n",
        "    best_avg_lg_score = score if score > best_avg_lg_score else best_avg_lg_score\n",
        "\n",
        "    dt_clf = DecisionTreeClassifier()\n",
        "    score = get_avarage_f1_score(dt_clf, features, y)\n",
        "    best_avg_dt_score = score if score > best_avg_dt_score else best_avg_dt_score"
      ],
      "execution_count":17,
      "outputs":[
        
      ],
      "metadata":{
        
      }
    },
    {
      "cell_type":"code",
      "source":[
        "report_df = write_to_report(model_names=('LogisticRegression', 'DecisionTreeClassifier'),\n",
        "                            feature_selection='Yes\/UFS',\n",
        "                            scores=(best_avg_lg_score, best_avg_dt_score),\n",
        "                            report_df=report_df)\n",
        "report_df"
      ],
      "execution_count":18,
      "outputs":[
        {
          "data":{
            "text\/html":[
              "<div>\n",
              "<style scoped>\n",
              "    .dataframe tbody tr th:only-of-type {\n",
              "        vertical-align: middle;\n",
              "    }\n",
              "\n",
              "    .dataframe tbody tr th {\n",
              "        vertical-align: top;\n",
              "    }\n",
              "\n",
              "    .dataframe thead th {\n",
              "        text-align: right;\n",
              "    }\n",
              "<\/style>\n",
              "<table border=\"1\" class=\"dataframe\">\n",
              "  <thead>\n",
              "    <tr style=\"text-align: right;\">\n",
              "      <th><\/th>\n",
              "      <th>model<\/th>\n",
              "      <th>feature_selection<\/th>\n",
              "      <th>f1_score<\/th>\n",
              "    <\/tr>\n",
              "  <\/thead>\n",
              "  <tbody>\n",
              "    <tr>\n",
              "      <th>0<\/th>\n",
              "      <td>LogisticRegression<\/td>\n",
              "      <td>No<\/td>\n",
              "      <td>0.976511<\/td>\n",
              "    <\/tr>\n",
              "    <tr>\n",
              "      <th>1<\/th>\n",
              "      <td>DecisionTreeClassifier<\/td>\n",
              "      <td>No<\/td>\n",
              "      <td>0.803453<\/td>\n",
              "    <\/tr>\n",
              "    <tr>\n",
              "      <th>2<\/th>\n",
              "      <td>LogisticRegression<\/td>\n",
              "      <td>Yes\/UFS<\/td>\n",
              "      <td>0.976834<\/td>\n",
              "    <\/tr>\n",
              "    <tr>\n",
              "      <th>3<\/th>\n",
              "      <td>DecisionTreeClassifier<\/td>\n",
              "      <td>Yes\/UFS<\/td>\n",
              "      <td>0.864717<\/td>\n",
              "    <\/tr>\n",
              "  <\/tbody>\n",
              "<\/table>\n",
              "<\/div>"
            ]
          },
          "metadata":{
            
          },
          "output_type":"display_data"
        }
      ],
      "metadata":{
        
      }
    },
    {
      "cell_type":"markdown",
      "source":[
        "Видим, что качество работы моделей улучшилось"
      ],
      "attachments":{
        
      },
      "metadata":{
        
      }
    },
    {
      "cell_type":"markdown",
      "source":[
        "## 3 Рекурсивное исключение признаков"
      ],
      "attachments":{
        
      },
      "metadata":{
        
      }
    },
    {
      "cell_type":"code",
      "source":[
        "nums = np.arange(3, len(df.columns))\n",
        "best_avg_lg_score, best_avg_dt_score = -1, -1"
      ],
      "execution_count":0,
      "outputs":[
        
      ],
      "metadata":{
        
      }
    },
    {
      "cell_type":"code",
      "source":[
        "for n in nums:\n",
        "    lr_clf = LogisticRegression(penalty='l1', solver='liblinear')\n",
        "    rfe = RFE(lr_clf, n)\n",
        "    fitted_rfe = rfe.fit(X, y)\n",
        "    features = fitted_rfe.transform(X)\n",
        "\n",
        "    score = get_avarage_f1_score(lr_clf, features, y)\n",
        "    best_avg_lg_score = score if score > best_avg_lg_score else best_avg_lg_score\n",
        "\n",
        "    dt_clf = DecisionTreeClassifier()\n",
        "    rfe = RFE(dt_clf, n)\n",
        "    fitted_rfe = rfe.fit(X, y)\n",
        "    features = fitted_rfe.transform(X)\n",
        "\n",
        "    score = get_avarage_f1_score(dt_clf, features, y)\n",
        "    best_avg_dt_score = score if score > best_avg_dt_score else best_avg_dt_score"
      ],
      "execution_count":0,
      "outputs":[
        
      ],
      "metadata":{
        
      }
    },
    {
      "cell_type":"code",
      "source":[
        "report_df = write_to_report(model_names=('LogisticRegression', 'DecisionTreeClassifier'),\n",
        "                            feature_selection='Yes\/RFE',\n",
        "                            scores=(best_avg_lg_score, best_avg_dt_score),\n",
        "                            report_df=report_df)\n",
        "report_df"
      ],
      "execution_count":0,
      "outputs":[
        
      ],
      "metadata":{
        
      }
    },
    {
      "cell_type":"markdown",
      "source":[
        "С RFE качество улучшилось примерно как в UFS"
      ],
      "attachments":{
        
      },
      "metadata":{
        
      }
    },
    {
      "cell_type":"markdown",
      "source":[
        "## 4 Метод главных компонент"
      ],
      "attachments":{
        
      },
      "metadata":{
        
      }
    },
    {
      "cell_type":"code",
      "source":[
        "nums = (2, 3, 4)\n",
        "best_avg_lg_score, best_avg_dt_score = -1, -1"
      ],
      "execution_count":0,
      "outputs":[
        
      ],
      "metadata":{
        
      }
    },
    {
      "cell_type":"code",
      "source":[
        "for n in nums:\n",
        "    pca = PCA(n)\n",
        "    fitted_pca = pca.fit(X, y)\n",
        "    features = fitted_pca.transform(X)\n",
        "    \n",
        "    lr_clf = LogisticRegression(penalty='l1', solver='liblinear')\n",
        "    score = get_avarage_f1_score(lr_clf, features, y)\n",
        "    best_avg_lg_score = score if score > best_avg_lg_score else best_avg_lg_score\n",
        "\n",
        "    dt_clf = DecisionTreeClassifier()\n",
        "    score = get_avarage_f1_score(dt_clf, features, y)\n",
        "    best_avg_dt_score = score if score > best_avg_dt_score else best_avg_dt_score"
      ],
      "execution_count":0,
      "outputs":[
        
      ],
      "metadata":{
        
      }
    },
    {
      "cell_type":"code",
      "source":[
        "report_df = write_to_report(model_names=('LogisticRegression', 'DecisionTreeClassifier'),\n",
        "                            feature_selection='Yes\/PCA',\n",
        "                            scores=(best_avg_lg_score, best_avg_dt_score),\n",
        "                            report_df=report_df)\n",
        "report_df"
      ],
      "execution_count":0,
      "outputs":[
        
      ],
      "metadata":{
        
      }
    },
    {
      "cell_type":"markdown",
      "source":[
        "С использованием PCA качество стало ещё больше, чем с RFE и UFS"
      ],
      "attachments":{
        
      },
      "metadata":{
        
      }
    },
    {
      "cell_type":"markdown",
      "source":[
        "## 5 Отбор на основе важности признаков"
      ],
      "attachments":{
        
      },
      "metadata":{
        
      }
    },
    {
      "cell_type":"code",
      "source":[
        "n_highest_features = np.arange(2, len(df.columns))\n",
        "best_avg_lg_score, best_avg_dt_score = -1, -1"
      ],
      "execution_count":0,
      "outputs":[
        
      ],
      "metadata":{
        
      }
    },
    {
      "cell_type":"code",
      "source":[
        "etc = ExtraTreesClassifier()\n",
        "etc.fit(X, y)\n",
        "sorted_indices = np.argsort(etc.feature_importances_)\n",
        "for n in n_highest_features:\n",
        "    features = X[:, sorted_indices[:n]]\n",
        "    \n",
        "    lr_clf = LogisticRegression(penalty='l1', solver='liblinear')\n",
        "    score = get_avarage_f1_score(lr_clf, features, y)\n",
        "    best_avg_lg_score = score if score > best_avg_lg_score else best_avg_lg_score\n",
        "\n",
        "    dt_clf = DecisionTreeClassifier()\n",
        "    score = get_avarage_f1_score(dt_clf, features, y)\n",
        "    best_avg_dt_score = score if score > best_avg_dt_score else best_avg_dt_score"
      ],
      "execution_count":0,
      "outputs":[
        
      ],
      "metadata":{
        
      }
    },
    {
      "cell_type":"code",
      "source":[
        "report_df = write_to_report(model_names=('LogisticRegression', 'DecisionTreeClassifier'),\n",
        "                            feature_selection='Yes\/ETC',\n",
        "                            scores=(best_avg_lg_score, best_avg_dt_score),\n",
        "                            report_df=report_df)\n",
        "report_df"
      ],
      "execution_count":0,
      "outputs":[
        
      ],
      "metadata":{
        
      }
    },
    {
      "cell_type":"markdown",
      "source":[
        "С использованием ETC качество не изменилось"
      ],
      "attachments":{
        
      },
      "metadata":{
        
      }
    },
    {
      "cell_type":"markdown",
      "source":[
        "## 6 Вывод"
      ],
      "attachments":{
        
      },
      "metadata":{
        
      }
    },
    {
      "cell_type":"markdown",
      "source":[
        "После проведённых экспериментов получилось, что лучшую прибавку к качеству дал PCA, а худшую – отбор на основе важности признаков с использованием ExtraTreesClassifier"
      ],
      "attachments":{
        
      },
      "metadata":{
        
      }
    },
    {
      "cell_type":"markdown",
      "source":[
        "## TODO"
      ],
      "attachments":{
        
      },
      "metadata":{
        
      }
    },
    {
      "cell_type":"markdown",
      "source":[
        "* сделать вывод наилучших признаков, выбранных каждым методом\n",
        "\n",
        "* добавить столбец с лучшими выбранными признаками в report_df"
      ],
      "attachments":{
        
      },
      "metadata":{
        
      }
    },
    {
      "cell_type":"markdown",
      "source":[
        "## For Nura"
      ],
      "attachments":{
        
      },
      "metadata":{
        
      }
    },
    {
      "cell_type":"code",
      "source":[
        "import warnings\n",
        "warnings.filterwarnings('ignore')\n",
        "\n",
        "import numpy as np\n",
        "import pandas as pd\n",
        "\n",
        "from sklearn.model_selection import train_test_split\n",
        "from sklearn.preprocessing import StandardScaler\n",
        "\n",
        "from sklearn.linear_model import LogisticRegression\n",
        "from sklearn.tree import DecisionTreeClassifier\n",
        "\n",
        "from sklearn.feature_selection import (SelectKBest, \n",
        "                                       f_classif,\n",
        "                                       RFE)\n",
        "from sklearn.decomposition import PCA\n",
        "from sklearn.ensemble import ExtraTreesClassifier"
      ],
      "execution_count":2,
      "outputs":[
        
      ],
      "metadata":{
        
      }
    },
    {
      "cell_type":"code",
      "source":[
        "file_path = \".\/bank_data_set.csv\"\n",
        "df = pd.read_csv(file_path, index_col=0)\n",
        "df.head()"
      ],
      "execution_count":3,
      "outputs":[
        {
          "data":{
            "text\/html":[
              "<div>\n",
              "<style scoped>\n",
              "    .dataframe tbody tr th:only-of-type {\n",
              "        vertical-align: middle;\n",
              "    }\n",
              "\n",
              "    .dataframe tbody tr th {\n",
              "        vertical-align: top;\n",
              "    }\n",
              "\n",
              "    .dataframe thead th {\n",
              "        text-align: right;\n",
              "    }\n",
              "<\/style>\n",
              "<table border=\"1\" class=\"dataframe\">\n",
              "  <thead>\n",
              "    <tr style=\"text-align: right;\">\n",
              "      <th><\/th>\n",
              "      <th>age<\/th>\n",
              "      <th>default<\/th>\n",
              "      <th>balance<\/th>\n",
              "      <th>housing<\/th>\n",
              "      <th>loan<\/th>\n",
              "      <th>day<\/th>\n",
              "      <th>duration<\/th>\n",
              "      <th>campaign<\/th>\n",
              "      <th>pdays<\/th>\n",
              "      <th>previous<\/th>\n",
              "      <th>...<\/th>\n",
              "      <th>month_jun<\/th>\n",
              "      <th>month_mar<\/th>\n",
              "      <th>month_may<\/th>\n",
              "      <th>month_nov<\/th>\n",
              "      <th>month_oct<\/th>\n",
              "      <th>month_sep<\/th>\n",
              "      <th>poutcome_failure<\/th>\n",
              "      <th>poutcome_other<\/th>\n",
              "      <th>poutcome_success<\/th>\n",
              "      <th>poutcome_unknown<\/th>\n",
              "    <\/tr>\n",
              "  <\/thead>\n",
              "  <tbody>\n",
              "    <tr>\n",
              "      <th>0<\/th>\n",
              "      <td>30<\/td>\n",
              "      <td>0<\/td>\n",
              "      <td>1787<\/td>\n",
              "      <td>0<\/td>\n",
              "      <td>0<\/td>\n",
              "      <td>19<\/td>\n",
              "      <td>79<\/td>\n",
              "      <td>1<\/td>\n",
              "      <td>-1<\/td>\n",
              "      <td>0<\/td>\n",
              "      <td>...<\/td>\n",
              "      <td>0<\/td>\n",
              "      <td>0<\/td>\n",
              "      <td>0<\/td>\n",
              "      <td>0<\/td>\n",
              "      <td>1<\/td>\n",
              "      <td>0<\/td>\n",
              "      <td>0<\/td>\n",
              "      <td>0<\/td>\n",
              "      <td>0<\/td>\n",
              "      <td>1<\/td>\n",
              "    <\/tr>\n",
              "    <tr>\n",
              "      <th>1<\/th>\n",
              "      <td>33<\/td>\n",
              "      <td>0<\/td>\n",
              "      <td>4789<\/td>\n",
              "      <td>1<\/td>\n",
              "      <td>1<\/td>\n",
              "      <td>11<\/td>\n",
              "      <td>220<\/td>\n",
              "      <td>1<\/td>\n",
              "      <td>339<\/td>\n",
              "      <td>4<\/td>\n",
              "      <td>...<\/td>\n",
              "      <td>0<\/td>\n",
              "      <td>0<\/td>\n",
              "      <td>1<\/td>\n",
              "      <td>0<\/td>\n",
              "      <td>0<\/td>\n",
              "      <td>0<\/td>\n",
              "      <td>1<\/td>\n",
              "      <td>0<\/td>\n",
              "      <td>0<\/td>\n",
              "      <td>0<\/td>\n",
              "    <\/tr>\n",
              "    <tr>\n",
              "      <th>2<\/th>\n",
              "      <td>35<\/td>\n",
              "      <td>0<\/td>\n",
              "      <td>1350<\/td>\n",
              "      <td>1<\/td>\n",
              "      <td>0<\/td>\n",
              "      <td>16<\/td>\n",
              "      <td>185<\/td>\n",
              "      <td>1<\/td>\n",
              "      <td>330<\/td>\n",
              "      <td>1<\/td>\n",
              "      <td>...<\/td>\n",
              "      <td>0<\/td>\n",
              "      <td>0<\/td>\n",
              "      <td>0<\/td>\n",
              "      <td>0<\/td>\n",
              "      <td>0<\/td>\n",
              "      <td>0<\/td>\n",
              "      <td>1<\/td>\n",
              "      <td>0<\/td>\n",
              "      <td>0<\/td>\n",
              "      <td>0<\/td>\n",
              "    <\/tr>\n",
              "    <tr>\n",
              "      <th>3<\/th>\n",
              "      <td>30<\/td>\n",
              "      <td>0<\/td>\n",
              "      <td>1476<\/td>\n",
              "      <td>1<\/td>\n",
              "      <td>1<\/td>\n",
              "      <td>3<\/td>\n",
              "      <td>199<\/td>\n",
              "      <td>4<\/td>\n",
              "      <td>-1<\/td>\n",
              "      <td>0<\/td>\n",
              "      <td>...<\/td>\n",
              "      <td>1<\/td>\n",
              "      <td>0<\/td>\n",
              "      <td>0<\/td>\n",
              "      <td>0<\/td>\n",
              "      <td>0<\/td>\n",
              "      <td>0<\/td>\n",
              "      <td>0<\/td>\n",
              "      <td>0<\/td>\n",
              "      <td>0<\/td>\n",
              "      <td>1<\/td>\n",
              "    <\/tr>\n",
              "    <tr>\n",
              "      <th>4<\/th>\n",
              "      <td>59<\/td>\n",
              "      <td>0<\/td>\n",
              "      <td>0<\/td>\n",
              "      <td>1<\/td>\n",
              "      <td>0<\/td>\n",
              "      <td>5<\/td>\n",
              "      <td>226<\/td>\n",
              "      <td>1<\/td>\n",
              "      <td>-1<\/td>\n",
              "      <td>0<\/td>\n",
              "      <td>...<\/td>\n",
              "      <td>0<\/td>\n",
              "      <td>0<\/td>\n",
              "      <td>1<\/td>\n",
              "      <td>0<\/td>\n",
              "      <td>0<\/td>\n",
              "      <td>0<\/td>\n",
              "      <td>0<\/td>\n",
              "      <td>0<\/td>\n",
              "      <td>0<\/td>\n",
              "      <td>1<\/td>\n",
              "    <\/tr>\n",
              "  <\/tbody>\n",
              "<\/table>\n",
              "<p>5 rows × 49 columns<\/p>\n",
              "<\/div>"
            ]
          },
          "metadata":{
            
          },
          "output_type":"display_data"
        }
      ],
      "metadata":{
        
      }
    },
    {
      "cell_type":"code",
      "source":[
        "df.columns"
      ],
      "execution_count":13,
      "outputs":[
        {
          "data":{
            "text\/plain":[
              "Index(['age', 'default', 'balance', 'housing', 'loan', 'day', 'duration',\n",
              "       'campaign', 'pdays', 'previous', 'y', 'job_admin.', 'job_blue-collar',\n",
              "       'job_entrepreneur', 'job_housemaid', 'job_management', 'job_retired',\n",
              "       'job_self-employed', 'job_services', 'job_student', 'job_technician',\n",
              "       'job_unemployed', 'job_unknown', 'marital_divorced', 'marital_married',\n",
              "       'marital_single', 'education_primary', 'education_secondary',\n",
              "       'education_tertiary', 'education_unknown', 'contact_cellular',\n",
              "       'contact_telephone', 'contact_unknown', 'month_apr', 'month_aug',\n",
              "       'month_dec', 'month_feb', 'month_jan', 'month_jul', 'month_jun',\n",
              "       'month_mar', 'month_may', 'month_nov', 'month_oct', 'month_sep',\n",
              "       'poutcome_failure', 'poutcome_other', 'poutcome_success',\n",
              "       'poutcome_unknown'],\n",
              "      dtype='object')"
            ]
          },
          "metadata":{
            
          },
          "output_type":"display_data"
        }
      ],
      "metadata":{
        
      }
    },
    {
      "cell_type":"code",
      "source":[
        "X, y = df.drop('y', axis=1).values, df.iloc[:, 10].values\n",
        "\n",
        "scaler = StandardScaler()\n",
        "scaler.fit(X)\n",
        "scaled_X = scaler.transform(X)\n",
        "\n",
        "X_train, X_test, y_train, y_test = train_test_split(scaled_X, y, \n",
        "                                                    test_size=0.25, \n",
        "                                                    stratify=y)"
      ],
      "execution_count":4,
      "outputs":[
        
      ],
      "metadata":{
        
      }
    },
    {
      "cell_type":"code",
      "source":[
        "logreg_clf = LogisticRegression()\n",
        "logreg_clf.fit(X_train, y_train)\n",
        "print(\"Точность логистической регрессии без отбора признаков: \", logreg_clf.score(X_test, y_test))\n",
        "\n",
        "tree_clf = DecisionTreeClassifier()\n",
        "tree_clf.fit(X_train, y_train)\n",
        "print(\"Точность дерева решений без отбора признаков: \", tree_clf.score(X_test, y_test))"
      ],
      "execution_count":5,
      "outputs":[
        {
          "name":"stdout",
          "text":[
            "Точность логистической регрессии без отбора признаков:  0.8885941644562334\n",
            "Точность дерева решений без отбора признаков:  0.8709106984969054\n"
          ],
          "output_type":"stream"
        }
      ],
      "metadata":{
        
      }
    },
    {
      "cell_type":"markdown",
      "source":[
        "## 1. Одномерный отбор признаков \n",
        "\n",
        "Отбор признаков на основе статистической связи (корреляции) с целевой переменной"
      ],
      "attachments":{
        
      },
      "metadata":{
        
      }
    },
    {
      "cell_type":"code",
      "source":[
        "logreg_scores, tree_scores = [], []\n",
        "for k in range(3, 11):\n",
        "    k_best = SelectKBest(score_func=f_classif, k=k)\n",
        "    fitted = k_best.fit(scaled_X, y)\n",
        "    features = fitted.transform(scaled_X)\n",
        "\n",
        "    X_train, X_test, y_train, y_test = train_test_split(features, y,\n",
        "                                                        test_size=0.25,\n",
        "                                                        stratify=y)\n",
        "\n",
        "    logreg_clf = LogisticRegression()\n",
        "    logreg_clf.fit(X_train, y_train)\n",
        "    logreg_scores.append((k, logreg_clf.score(X_test, y_test)))\n",
        "\n",
        "    tree_clf = DecisionTreeClassifier()\n",
        "    tree_clf.fit(X_train, y_train)\n",
        "    tree_scores.append((k, tree_clf.score(X_test, y_test)))\n",
        "\n",
        "avg_logreg_score = sum([x[1] for x in logreg_scores]) \/ len(logreg_scores)\n",
        "avg_tree_score = sum([x[1] for x in tree_scores]) \/ len(tree_scores)"
      ],
      "execution_count":20,
      "outputs":[
        
      ],
      "metadata":{
        
      }
    },
    {
      "cell_type":"code",
      "source":[
        "print(f\"Точность логистической регрессии при одномерном отборе признаков: {avg_logreg_score}\")\n",
        "print(f\"Точность дерева решений при одномерном отборе признаков: {avg_tree_score}\")"
      ],
      "execution_count":21,
      "outputs":[
        {
          "name":"stdout",
          "text":[
            "Точность логистической регрессии при одномерном отборе признаков: 0.9022988505747127\n",
            "Точность дерева решений при одномерном отборе признаков: 0.876105216622458\n"
          ],
          "output_type":"stream"
        }
      ],
      "metadata":{
        
      }
    },
    {
      "cell_type":"markdown",
      "source":[
        "## 2. Рекурсивное исключение признаков\n",
        "\n",
        "Работа метода заключается в рекурсивном удалении признаком с наименьшей \"стоимостью\". Сначала каждый признак получает свою оценку \"стоимости\". Затем та часть признаков, что имеет наименьшие \"стоимости\", удаляется. Процедура рекурсивно повторяется для нового набора признаков. "
      ],
      "attachments":{
        
      },
      "metadata":{
        
      }
    },
    {
      "cell_type":"code",
      "source":[
        "logreg_scores, tree_scores = [], []\n",
        "for n in range(3, len(df.columns)):\n",
        "    logreg_clf = LogisticRegression()\n",
        "    rfe = RFE(logreg_clf, n)\n",
        "    fitted = rfe.fit(scaled_X, y)\n",
        "    features = fitted.transform(scaled_X)\n",
        "    X_train, X_test, y_train, y_test = train_test_split(features, y,\n",
        "                                                        test_size=0.25,\n",
        "                                                        stratify=y)\n",
        "    logreg_clf.fit(X_train, y_train)\n",
        "    logreg_scores.append((n, logreg_clf.score(X_test, y_test)))\n",
        "\n",
        "    tree_clf = DecisionTreeClassifier()\n",
        "    rfe = RFE(tree_clf, n)\n",
        "    fitted = rfe.fit(scaled_X, y)\n",
        "    features = fitted.transform(scaled_X)\n",
        "    X_train, X_test, y_train, y_test = train_test_split(features, y,\n",
        "                                                        test_size=0.25,\n",
        "                                                        stratify=y)\n",
        "    tree_clf.fit(X_train, y_train)\n",
        "    tree_scores.append((n, tree_clf.score(X_test, y_test)))\n",
        "\n",
        "avg_logreg_score = sum([x[1] for x in logreg_scores]) \/ len(logreg_scores)\n",
        "avg_tree_score = sum([x[1] for x in tree_scores]) \/ len(tree_scores)"
      ],
      "execution_count":26,
      "outputs":[
        
      ],
      "metadata":{
        
      }
    },
    {
      "cell_type":"code",
      "source":[
        "print(f\"Точность логистической регрессии при рекурсивном исключении признаков: {avg_logreg_score}\")\n",
        "print(f\"Точность дерева решений при рекурсивном исключении признаков: {avg_tree_score}\")"
      ],
      "execution_count":27,
      "outputs":[
        {
          "name":"stdout",
          "text":[
            "Точность логистической регрессии при одномерном отборе признаков: 0.9021258601468496\n",
            "Точность дерева решений при одномерном отборе признаков: 0.8636451005266599\n"
          ],
          "output_type":"stream"
        }
      ],
      "metadata":{
        
      }
    },
    {
      "cell_type":"markdown",
      "source":[
        "## 3. Метод главных компонент\n",
        "\n",
        "Данный метод пытается спроецировать исходное пространство признаков в новое n-мерное пространство"
      ],
      "attachments":{
        
      },
      "metadata":{
        
      }
    },
    {
      "cell_type":"code",
      "source":[
        "logreg_scores, tree_scores = [], []\n",
        "for n in range(2, 5):\n",
        "    pca = PCA(n)\n",
        "    fitted = pca.fit(scaled_X, y)\n",
        "    features = fitted.transform(scaled_X)\n",
        "\n",
        "    X_train, X_test, y_train, y_test = train_test_split(features, y,\n",
        "                                                        test_size=0.25,\n",
        "                                                        stratify=y)\n",
        "    \n",
        "    logreg_clf = LogisticRegression()\n",
        "    logreg_clf.fit(X_train, y_train)\n",
        "    logreg_scores.append((n, logreg_clf.score(X_test, y_test)))\n",
        "\n",
        "    tree_clf = DecisionTreeClassifier()\n",
        "    tree_clf.fit(X_train, y_train)\n",
        "    tree_scores.append((n, tree_clf.score(X_test, y_test)))\n",
        "\n",
        "avg_logreg_score = sum([x[1] for x in logreg_scores]) \/ len(logreg_scores)\n",
        "avg_tree_score = sum([x[1] for x in tree_scores]) \/ len(tree_scores)"
      ],
      "execution_count":8,
      "outputs":[
        
      ],
      "metadata":{
        
      }
    },
    {
      "cell_type":"code",
      "source":[
        "print(f\"Точность логистической регрессии при отборе признаков методом главных компонент: {avg_logreg_score}\")\n",
        "print(f\"Точность дерева решений при отборе признаков методом главных компонент: {avg_tree_score}\")"
      ],
      "execution_count":9,
      "outputs":[
        {
          "name":"stdout",
          "text":[
            "Точность логистической регрессии при отборе признаков методом главных компонент: 0.8850574712643678\n",
            "Точность дерева решений при отборе признаков методом главных компонент: 0.8028293545534925\n"
          ],
          "output_type":"stream"
        }
      ],
      "metadata":{
        
      }
    },
    {
      "cell_type":"markdown",
      "source":[
        "## 4. Отбор на основе важности признаков\n",
        "\n",
        "Ансамблевые алгоритмы на основе деревьев решений, такие как случайный лес (random forest), позволяют оценить важность признаков."
      ],
      "attachments":{
        
      },
      "metadata":{
        
      }
    },
    {
      "cell_type":"code",
      "source":[
        "logreg_scores, tree_scores = [], []\n",
        "n_highest_features = range(2, len(df.columns))\n",
        "etc = ExtraTreesClassifier()\n",
        "etc.fit(X, y)\n",
        "sorted_indices = np.argsort(etc.feature_importances_)\n",
        "for n in n_highest_features:\n",
        "    features = scaled_X[:, sorted_indices[:n]]\n",
        "    \n",
        "    X_train, X_test, y_train, y_test = train_test_split(features, y,\n",
        "                                                        test_size=0.25,\n",
        "                                                        stratify=y)\n",
        "    \n",
        "    logreg_clf = LogisticRegression()\n",
        "    logreg_clf.fit(X_train, y_train)\n",
        "    logreg_scores.append((n, logreg_clf.score(X_test, y_test)))\n",
        "\n",
        "    tree_clf = DecisionTreeClassifier()\n",
        "    tree_clf.fit(X_train, y_train)\n",
        "    tree_scores.append((n, tree_clf.score(X_test, y_test)))\n",
        "\n",
        "avg_logreg_score = sum([x[1] for x in logreg_scores]) \/ len(logreg_scores)\n",
        "avg_tree_score = sum([x[1] for x in tree_scores]) \/ len(tree_scores)"
      ],
      "execution_count":10,
      "outputs":[
        
      ],
      "metadata":{
        
      }
    },
    {
      "cell_type":"code",
      "source":[
        "print(f\"Точность логистической регрессии при отборе признаков методом главных компонент: {avg_logreg_score}\")\n",
        "print(f\"Точность дерева решений при отборе признаков методом главных компонент: {avg_tree_score}\")"
      ],
      "execution_count":11,
      "outputs":[
        {
          "name":"stdout",
          "text":[
            "Точность логистической регрессии при отборе признаков методом главных компонент: 0.8862802641232576\n",
            "Точность дерева решений при отборе признаков методом главных компонент: 0.8684086761856391\n"
          ],
          "output_type":"stream"
        }
      ],
      "metadata":{
        
      }
    }
  ],
  "metadata":{
    
  },
  "nbformat":4,
  "nbformat_minor":0
}