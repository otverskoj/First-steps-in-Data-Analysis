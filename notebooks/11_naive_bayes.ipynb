{
  "cells":[
    {
      "cell_type":"markdown",
      "source":[
        "# Наивный классификатор Байеса"
      ],
      "attachments":{
        
      },
      "metadata":{
        
      }
    },
    {
      "cell_type":"markdown",
      "source":[
        "## 0 Импорт необходимых библиотек"
      ],
      "attachments":{
        
      },
      "metadata":{
        
      }
    },
    {
      "cell_type":"code",
      "source":[
        "from typing import Iterable, Dict, Union\n",
        "from collections import Counter\n",
        "\n",
        "import pandas as pd\n",
        "import numpy as np\n",
        "\n",
        "from sklearn import metrics\n",
        "from sklearn.model_selection import train_test_split"
      ],
      "execution_count":1,
      "outputs":[
        
      ],
      "metadata":{
        
      }
    },
    {
      "cell_type":"markdown",
      "source":[
        "## 1 Первое задание (случай с одним признаком)\n",
        "\n",
        "Какова вероятность отправиться на прогулку если идёт дождь, при наличии следующих наблюдений?\n",
        "\n",
        "```\n",
        "data = [\n",
        "        ('солнечно', True),\n",
        "        ('снег', False),\n",
        "        ('облачно', False),\n",
        "        ('дождь', False),\n",
        "        ('солнечно', True),\n",
        "        ('снег', False),\n",
        "        ('облачно', True),\n",
        "        ('снег', False),\n",
        "        ('солнечно', False),\n",
        "        ('облачно', True),\n",
        "        ('снег', True),\n",
        "        ('солнечно', True),\n",
        "        ('дождь', False),\n",
        "        ('дождь', True),\n",
        "        ('облачно', True),\n",
        "]\n",
        "```"
      ],
      "attachments":{
        
      },
      "metadata":{
        
      }
    },
    {
      "cell_type":"code",
      "source":[
        "data = [\n",
        "        ('солнечно', True),\n",
        "        ('снег', False),\n",
        "        ('облачно', False),\n",
        "        ('дождь', False),\n",
        "        ('солнечно', True),\n",
        "        ('снег', False),\n",
        "        ('облачно', True),\n",
        "        ('снег', False),\n",
        "        ('солнечно', False),\n",
        "        ('облачно', True),\n",
        "        ('снег', True),\n",
        "        ('солнечно', True),\n",
        "        ('дождь', False),\n",
        "        ('дождь', True),\n",
        "        ('облачно', True),\n",
        "]\n",
        "\n",
        "df = pd.DataFrame(data, columns=['weather', 'stroll'])\n",
        "df"
      ],
      "execution_count":2,
      "outputs":[
        {
          "data":{
            "text\/html":[
              "<div>\n",
              "<style scoped>\n",
              "    .dataframe tbody tr th:only-of-type {\n",
              "        vertical-align: middle;\n",
              "    }\n",
              "\n",
              "    .dataframe tbody tr th {\n",
              "        vertical-align: top;\n",
              "    }\n",
              "\n",
              "    .dataframe thead th {\n",
              "        text-align: right;\n",
              "    }\n",
              "<\/style>\n",
              "<table border=\"1\" class=\"dataframe\">\n",
              "  <thead>\n",
              "    <tr style=\"text-align: right;\">\n",
              "      <th><\/th>\n",
              "      <th>weather<\/th>\n",
              "      <th>stroll<\/th>\n",
              "    <\/tr>\n",
              "  <\/thead>\n",
              "  <tbody>\n",
              "    <tr>\n",
              "      <th>0<\/th>\n",
              "      <td>солнечно<\/td>\n",
              "      <td>True<\/td>\n",
              "    <\/tr>\n",
              "    <tr>\n",
              "      <th>1<\/th>\n",
              "      <td>снег<\/td>\n",
              "      <td>False<\/td>\n",
              "    <\/tr>\n",
              "    <tr>\n",
              "      <th>2<\/th>\n",
              "      <td>облачно<\/td>\n",
              "      <td>False<\/td>\n",
              "    <\/tr>\n",
              "    <tr>\n",
              "      <th>3<\/th>\n",
              "      <td>дождь<\/td>\n",
              "      <td>False<\/td>\n",
              "    <\/tr>\n",
              "    <tr>\n",
              "      <th>4<\/th>\n",
              "      <td>солнечно<\/td>\n",
              "      <td>True<\/td>\n",
              "    <\/tr>\n",
              "    <tr>\n",
              "      <th>5<\/th>\n",
              "      <td>снег<\/td>\n",
              "      <td>False<\/td>\n",
              "    <\/tr>\n",
              "    <tr>\n",
              "      <th>6<\/th>\n",
              "      <td>облачно<\/td>\n",
              "      <td>True<\/td>\n",
              "    <\/tr>\n",
              "    <tr>\n",
              "      <th>7<\/th>\n",
              "      <td>снег<\/td>\n",
              "      <td>False<\/td>\n",
              "    <\/tr>\n",
              "    <tr>\n",
              "      <th>8<\/th>\n",
              "      <td>солнечно<\/td>\n",
              "      <td>False<\/td>\n",
              "    <\/tr>\n",
              "    <tr>\n",
              "      <th>9<\/th>\n",
              "      <td>облачно<\/td>\n",
              "      <td>True<\/td>\n",
              "    <\/tr>\n",
              "    <tr>\n",
              "      <th>10<\/th>\n",
              "      <td>снег<\/td>\n",
              "      <td>True<\/td>\n",
              "    <\/tr>\n",
              "    <tr>\n",
              "      <th>11<\/th>\n",
              "      <td>солнечно<\/td>\n",
              "      <td>True<\/td>\n",
              "    <\/tr>\n",
              "    <tr>\n",
              "      <th>12<\/th>\n",
              "      <td>дождь<\/td>\n",
              "      <td>False<\/td>\n",
              "    <\/tr>\n",
              "    <tr>\n",
              "      <th>13<\/th>\n",
              "      <td>дождь<\/td>\n",
              "      <td>True<\/td>\n",
              "    <\/tr>\n",
              "    <tr>\n",
              "      <th>14<\/th>\n",
              "      <td>облачно<\/td>\n",
              "      <td>True<\/td>\n",
              "    <\/tr>\n",
              "  <\/tbody>\n",
              "<\/table>\n",
              "<\/div>"
            ]
          },
          "metadata":{
            
          },
          "output_type":"display_data"
        }
      ],
      "metadata":{
        
      }
    },
    {
      "cell_type":"code",
      "source":[
        "df.weather.unique()"
      ],
      "execution_count":3,
      "outputs":[
        {
          "data":{
            "text\/html":[
              
            ]
          },
          "metadata":{
            
          },
          "output_type":"display_data"
        }
      ],
      "metadata":{
        
      }
    },
    {
      "cell_type":"markdown",
      "source":[
        "Посчитаем вероятности \"наступления\" каждого значения признака"
      ],
      "attachments":{
        
      },
      "metadata":{
        
      }
    },
    {
      "cell_type":"code",
      "source":[
        "objects_count = df.shape[0]\n",
        "p_sunny = df.loc[df['weather'] == 'солнечно'].shape[0] \/ objects_count\n",
        "p_snow = df.loc[df['weather'] == 'снег'].shape[0] \/ objects_count\n",
        "p_cloudly = df.loc[df['weather'] == 'облачно'].shape[0] \/ objects_count\n",
        "p_rain = df.loc[df['weather'] == 'дождь'].shape[0] \/ objects_count\n",
        "print(p_sunny, p_snow, p_cloudly, p_rain)\n",
        "print(sum((p_sunny, p_snow, p_cloudly, p_rain)))"
      ],
      "execution_count":4,
      "outputs":[
        {
          "name":"stdout",
          "text":[
            "0.26666666666666666 0.26666666666666666 0.26666666666666666 0.2\n",
            "1.0\n"
          ],
          "output_type":"stream"
        }
      ],
      "metadata":{
        
      }
    },
    {
      "cell_type":"markdown",
      "source":[
        "Теперь вычислим вероятность наступления события, что мы идём гулять. И вероятность противоположного события"
      ],
      "attachments":{
        
      },
      "metadata":{
        
      }
    },
    {
      "cell_type":"code",
      "source":[
        "p_stroll = df.loc[df['stroll'] == True].shape[0] \/ objects_count\n",
        "p_not_stroll = 1. - p_stroll\n",
        "print(p_stroll, p_not_stroll)"
      ],
      "execution_count":5,
      "outputs":[
        {
          "name":"stdout",
          "text":[
            "0.5333333333333333 0.4666666666666667\n"
          ],
          "output_type":"stream"
        }
      ],
      "metadata":{
        
      }
    },
    {
      "cell_type":"markdown",
      "source":[
        "Ещё нам нужно вычислить вероятность того, идёт ли дождь, когда мы гуляем"
      ],
      "attachments":{
        
      },
      "metadata":{
        
      }
    },
    {
      "cell_type":"code",
      "source":[
        "p_rain_if_stroll = df.loc[(df['weather'] == 'дождь') & (df['stroll'] == True)].shape[0] \/ \\\n",
        "    df.loc[df['stroll'] == True].shape[0]\n",
        "print(p_rain_if_stroll)"
      ],
      "execution_count":6,
      "outputs":[
        {
          "name":"stdout",
          "text":[
            "0.125\n"
          ],
          "output_type":"stream"
        }
      ],
      "metadata":{
        
      }
    },
    {
      "cell_type":"markdown",
      "source":[
        "Наконец, вычислим вероятность события, когда мы отправляемся на прогулку, при условии, что идёт дождь\n",
        "\n",
        "$P(stroll | rain) =\\frac{P(stroll) \\cdot P(rain | stroll)} {P(rain)}$"
      ],
      "attachments":{
        
      },
      "metadata":{
        
      }
    },
    {
      "cell_type":"code",
      "source":[
        "p_stroll_if_rain = p_stroll * p_rain_if_stroll \/ p_rain\n",
        "print(p_stroll_if_rain)"
      ],
      "execution_count":7,
      "outputs":[
        {
          "name":"stdout",
          "text":[
            "0.3333333333333333\n"
          ],
          "output_type":"stream"
        }
      ],
      "metadata":{
        
      }
    },
    {
      "cell_type":"markdown",
      "source":[
        "## 2 Второе задание (Naive Bayes from Scratch)\n",
        "\n",
        "Разбить данные на тренировочную и тестовую выборки.\n",
        "На основе обучающей создать модель наивного байеса, используя данное соотношение:\n",
        "\n",
        "$P(class | x_1, x_2, \\dots, x_n) = P(x_1|class) \\cdot P(x_2|class) \\cdot ... \\cdot P(x_n|class) \\cdot P(class)$\n",
        "\n",
        "На тестовой выборке посчитать accuracy, precision и recall.\n",
        "\n",
        "Если в данных содержатся числовые признаки, то разбить их на квартили (границы: 25%, 50%, 75%  -- получится 4 бинарных признака)."
      ],
      "attachments":{
        
      },
      "metadata":{
        
      }
    },
    {
      "cell_type":"markdown",
      "source":[
        "### 2.1 Naive Bayes from Scratch"
      ],
      "attachments":{
        
      },
      "metadata":{
        
      }
    },
    {
      "cell_type":"code",
      "source":[
        "# noinspection PyMethodMayBeStatic, PyPep8Naming, PyShadowingNames\n",
        "class NaiveBayesFromScratch:\n",
        "    def __init__(self, num_features_cols: Iterable[int]):\n",
        "        self._classes_counts: Dict[Union[str, int], int] = dict()\n",
        "        self._classes_probas: Dict[Union[str, int], float] = dict()\n",
        "        self._features_probas_if_class: Dict[int, Dict[int, Dict[Union[str, int], float]]] = \\\n",
        "            {0: dict(), 1: dict()}\n",
        "        # self._features_probas_if_class: Dict[int, Dict[int, Dict[Union[str, float], float]]] = \\\n",
        "        #     {0: defaultdict(defaultdict(float)), 1: defaultdict(defaultdict(float))}\n",
        "        self._features_bins: np.ndarray = np.array([])\n",
        "        self.num_features_cols: Iterable[int] = num_features_cols\n",
        "\n",
        "    def fit(self, X_train: np.ndarray, y_train: np.ndarray) -> None:\n",
        "        self._count_classes_probas(y_train)\n",
        "        X_train = self._split_numeric_features(X_train)\n",
        "        self._count_features_if_class_probas(X_train, y_train)\n",
        "\n",
        "    def _count_classes_probas(self, y_train: np.ndarray) -> None:\n",
        "        self._classes_counts = Counter(y_train)\n",
        "        for label, value in self._classes_counts.items():\n",
        "            self._classes_probas[label] = value \/ len(y_train)\n",
        "\n",
        "    def _split_numeric_features(self, X: np.ndarray) -> np.ndarray:\n",
        "        \"\"\"Split given numeric features into quartiles\n",
        "           and modify given X by adding four new binary features\n",
        "           (boundaries: 25%, 50%, 75%)\"\"\"\n",
        "\n",
        "        if self._features_bins.size == 0:\n",
        "            self._features_bins = np.percentile(X[:, self.num_features_cols],\n",
        "                                                q=(0, 25, 50, 75, 100),\n",
        "                                                axis=0)\n",
        "\n",
        "        for col_idx, bins in enumerate(self._features_bins.transpose()):\n",
        "            values = X[:, self.num_features_cols[col_idx]]\n",
        "            for i in range(bins.size - 1):\n",
        "                if i == bins.size - 1:\n",
        "                    is_between = (values > bins[i]) & (values <= bins[i + 1])\n",
        "                else:\n",
        "                    is_between = (values >= bins[i]) & (values < bins[i + 1])\n",
        "                X = np.column_stack((X, is_between))\n",
        "\n",
        "        return np.delete(X, self.num_features_cols, axis=1)\n",
        "\n",
        "    def _count_features_if_class_probas(self,\n",
        "                                        X_train: np.ndarray,\n",
        "                                        y_train: np.ndarray) -> None:\n",
        "        for label in self._classes_counts:\n",
        "            for feature_idx, feature in enumerate(X_train.transpose()):\n",
        "                for value in np.unique(feature):\n",
        "                    self._features_probas_if_class.setdefault(label, dict()).setdefault(feature_idx, dict())[value] = \\\n",
        "                        np.sum((X_train[:, feature_idx] == value) & (y_train == label)) \/ self._classes_counts[label]\n",
        "\n",
        "    def predict(self, X_test: np.ndarray) -> Iterable[np.ndarray]:\n",
        "        X_test = self._split_numeric_features(X_test)\n",
        "        predicted_labels, predicted_dist = np.array([]), np.array([])\n",
        "        for instance in X_test:\n",
        "            predicted_label, inst_dist = self._predict_single(instance)\n",
        "            predicted_dist = inst_dist if predicted_dist.size == 0 else np.row_stack((predicted_dist, inst_dist))\n",
        "            predicted_labels = np.hstack((predicted_labels, predicted_label))\n",
        "        return predicted_labels, predicted_dist\n",
        "\n",
        "    def _predict_single(self, instance: np.ndarray) -> Iterable[np.ndarray]:\n",
        "        labels_dist = []\n",
        "        for label, label_proba in self._classes_probas.items():\n",
        "            predicted_proba = label_proba\n",
        "            for idx, value in enumerate(instance):\n",
        "                value_proba = self._features_probas_if_class[label][idx].get(value, 10 ** (-5))\n",
        "                predicted_proba *= value_proba\n",
        "            labels_dist.append((label, predicted_proba))\n",
        "        return np.array(max(labels_dist, key=lambda t: t[1])[0]), np.array(labels_dist)\n",
        "\n",
        "    def accuracy_score(self, y_true: np.ndarray, y_pred: np.ndarray) -> float:\n",
        "        return metrics.accuracy_score(y_true, y_pred)\n",
        "\n",
        "    def precision_score(self, y_true: np.ndarray, y_pred: np.ndarray) -> float:\n",
        "        return metrics.precision_score(y_true, y_pred)\n",
        "\n",
        "    def recall_score(self, y_true: np.ndarray, y_pred: np.ndarray) -> float:\n",
        "        return metrics.recall_score(y_true, y_pred)\n",
        "\n",
        "    def all_scores(self, y_true: np.ndarray, y_pred: np.ndarray) -> Iterable[float]:\n",
        "        \"\"\"Return accuracy, precision and recall scores on given labels\"\"\"\n",
        "        return self.accuracy_score(y_true, y_pred), self.precision_score(y_true, y_pred), \\\n",
        "               self.recall_score(y_true, y_pred)"
      ],
      "execution_count":33,
      "outputs":[
        
      ],
      "metadata":{
        
      }
    },
    {
      "cell_type":"markdown",
      "source":[
        "### 2.2 Подготовка данных"
      ],
      "attachments":{
        
      },
      "metadata":{
        
      }
    },
    {
      "cell_type":"code",
      "source":[
        "url = 'https:\/\/raw.githubusercontent.com\/otverskoj\/First-steps-in-Data-Analysis\/main\/datasets\/classification\/occupancy_detection_preprocessed.csv'\n",
        "names = ['date', 'temperature', 'humidity', 'light', 'co2', 'humidity_ratio', 'occupancy']\n",
        "df = pd.read_csv(url, names=names, skiprows=1).drop(['date'], axis=1).sample(frac=1).reset_index(drop=True)\n",
        "\n",
        "X, y = df.drop([\"occupancy\"], axis=1).values, df.loc[:, \"occupancy\"].values\n",
        "X_train, X_test, y_train, y_test = train_test_split(X, y, test_size=0.25, stratify=y)"
      ],
      "execution_count":38,
      "outputs":[
        
      ],
      "metadata":{
        
      }
    },
    {
      "cell_type":"markdown",
      "source":[
        "### 2.3 Апробация на своих данных"
      ],
      "attachments":{
        
      },
      "metadata":{
        
      }
    },
    {
      "cell_type":"code",
      "source":[
        "num_cols = np.arange(X.shape[1])\n",
        "bayes = NaiveBayesFromScratch(num_cols)\n",
        "bayes.fit(X_train, y_train)\n",
        "y_pred, _ = bayes.predict(X_test)\n",
        "print(y_pred, y_test)\n",
        "print(\"Accuracy: \", bayes.accuracy_score(y_test, y_pred))\n",
        "print(\"Precision: \", bayes.precision_score(y_test, y_pred))\n",
        "print(\"Recall: \", bayes.recall_score(y_test, y_pred))"
      ],
      "execution_count":39,
      "outputs":[
        {
          "name":"stdout",
          "text":[
            "[0. 0. 0. ... 0. 0. 0.] [0 0 0 ... 0 0 0]\n",
            "Accuracy:  0.9778210116731517\n",
            "Precision:  0.9337105901374293\n",
            "Recall:  0.9730412805391744\n"
          ],
          "output_type":"stream"
        }
      ],
      "metadata":{
        
      }
    }
  ],
  "metadata":{
    
  },
  "nbformat":4,
  "nbformat_minor":0
}